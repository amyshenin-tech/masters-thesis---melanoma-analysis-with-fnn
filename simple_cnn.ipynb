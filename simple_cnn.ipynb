{
 "cells": [
  {
   "cell_type": "markdown",
   "id": "contained-sierra",
   "metadata": {},
   "source": [
    "# Rozpoznanie czerniaka na obrazku za pomocą prostej sieci konwolucyjnej"
   ]
  },
  {
   "cell_type": "markdown",
   "id": "rough-throat",
   "metadata": {},
   "source": [
    "Zaczynamy od wstępnego przetwarzania danych danych treningowych i testowych za pomocą klasy `ImageDataGenerator`.\n",
    "Za jej pomocą osiągamy kilku celów:\n",
    "- zwiększamy ilość danych testowych, ponieważ `ImageDataGenerator` tworzy nowe obrazy ze starych, stosując transformacji (skalowanie, horyzontalne obracanie, itd).\n",
    "- formatowanie obrazów do konwolucji"
   ]
  },
  {
   "cell_type": "code",
   "execution_count": 1,
   "id": "mathematical-jason",
   "metadata": {},
   "outputs": [],
   "source": [
    "from tensorflow.keras.preprocessing.image import ImageDataGenerator"
   ]
  },
  {
   "cell_type": "code",
   "execution_count": 2,
   "id": "hundred-leave",
   "metadata": {},
   "outputs": [
    {
     "name": "stdout",
     "output_type": "stream",
     "text": [
      "Found 7941 images belonging to 2 classes.\n"
     ]
    }
   ],
   "source": [
    "train_datagen = ImageDataGenerator(rescale = 1./255,\n",
    "                                   shear_range = 0.2,\n",
    "                                   zoom_range = 0.2,\n",
    "                                   horizontal_flip = True)\n",
    "training_set = train_datagen.flow_from_directory('training_gallery',\n",
    "                                                 target_size = (128, 128),\n",
    "                                                 batch_size = 32,\n",
    "                                                 class_mode = 'binary')"
   ]
  },
  {
   "cell_type": "code",
   "execution_count": 3,
   "id": "unusual-cooling",
   "metadata": {},
   "outputs": [
    {
     "name": "stdout",
     "output_type": "stream",
     "text": [
      "Found 1984 images belonging to 2 classes.\n"
     ]
    }
   ],
   "source": [
    "test_datagen = ImageDataGenerator(rescale = 1./255)\n",
    "test_set = test_datagen.flow_from_directory('testing_gallery',\n",
    "                                            target_size = (128, 128),\n",
    "                                            batch_size = 32,\n",
    "                                            class_mode = 'binary')"
   ]
  },
  {
   "cell_type": "markdown",
   "id": "complimentary-december",
   "metadata": {},
   "source": [
    "Budujemy sieć konwolucyjną z 3 warstwami konwolucyjnymi (ang. convolutional layer) i 2 warstwami gęstymi (ang. dense layer)."
   ]
  },
  {
   "cell_type": "code",
   "execution_count": 4,
   "id": "specialized-teacher",
   "metadata": {},
   "outputs": [],
   "source": [
    "from tensorflow.keras.models import Sequential\n",
    "from tensorflow.keras.layers import Conv2D, MaxPool2D, Dense, Flatten"
   ]
  },
  {
   "cell_type": "markdown",
   "id": "jewish-thirty",
   "metadata": {},
   "source": [
    "Tworzymy strategiję obliczeniową."
   ]
  },
  {
   "cell_type": "code",
   "execution_count": 5,
   "id": "former-contest",
   "metadata": {},
   "outputs": [],
   "source": [
    "cnn = Sequential([\n",
    "    # pierwsza warstwa konwolucyjna\n",
    "    Conv2D(filters=64, kernel_size=3, activation='relu', input_shape=(128, 128, 3)),\n",
    "    MaxPool2D(pool_size=2, strides=2),\n",
    "\n",
    "    # druga warstwa konwolucyjna\n",
    "    Conv2D(filters=64, kernel_size=3, activation='relu'),\n",
    "    MaxPool2D(pool_size=2, strides=2),\n",
    "\n",
    "    # trzecia warstwa konwolucyjna\n",
    "    Conv2D(filters=64, kernel_size=3, activation='relu'),\n",
    "    MaxPool2D(pool_size=2, strides=2),\n",
    "\n",
    "    # wyprostowanie\n",
    "    Flatten(),\n",
    "\n",
    "    # 2 warstwy gęste\n",
    "    Dense(units=128, activation='relu'),\n",
    "    Dense(units=128, activation='relu'),\n",
    "\n",
    "    # warstwa wyjściowa\n",
    "    Dense(units=1, activation='sigmoid')\n",
    "])"
   ]
  },
  {
   "cell_type": "markdown",
   "id": "numeric-monitor",
   "metadata": {},
   "source": [
    "Kompilujemy poprzednio zbudowany model."
   ]
  },
  {
   "cell_type": "code",
   "execution_count": 6,
   "id": "precious-possibility",
   "metadata": {},
   "outputs": [],
   "source": [
    "cnn.compile(optimizer='adam', loss='binary_crossentropy', metrics=['accuracy'])"
   ]
  },
  {
   "cell_type": "markdown",
   "id": "spatial-communication",
   "metadata": {},
   "source": [
    "Trenujemy sieć konwolucyjną."
   ]
  },
  {
   "cell_type": "code",
   "execution_count": 7,
   "id": "surgical-forward",
   "metadata": {
    "scrolled": false
   },
   "outputs": [
    {
     "name": "stdout",
     "output_type": "stream",
     "text": [
      "Epoch 1/25\n",
      "249/249 [==============================] - 1110s 4s/step - loss: 0.1898 - accuracy: 0.9593 - val_loss: 0.0586 - val_accuracy: 0.9884\n",
      "Epoch 2/25\n",
      "249/249 [==============================] - 998s 4s/step - loss: 0.0769 - accuracy: 0.9786 - val_loss: 0.0509 - val_accuracy: 0.9889\n",
      "Epoch 3/25\n",
      "249/249 [==============================] - 995s 4s/step - loss: 0.0801 - accuracy: 0.9749 - val_loss: 0.0591 - val_accuracy: 0.9889\n",
      "Epoch 4/25\n",
      "249/249 [==============================] - 994s 4s/step - loss: 0.0756 - accuracy: 0.9772 - val_loss: 0.0472 - val_accuracy: 0.9884\n",
      "Epoch 5/25\n",
      "249/249 [==============================] - 994s 4s/step - loss: 0.0773 - accuracy: 0.9748 - val_loss: 0.0493 - val_accuracy: 0.9884\n",
      "Epoch 6/25\n",
      "249/249 [==============================] - 993s 4s/step - loss: 0.0640 - accuracy: 0.9732 - val_loss: 0.1150 - val_accuracy: 0.9884\n",
      "Epoch 7/25\n",
      "249/249 [==============================] - 993s 4s/step - loss: 0.0698 - accuracy: 0.9760 - val_loss: 0.0412 - val_accuracy: 0.9884\n",
      "Epoch 8/25\n",
      "249/249 [==============================] - 993s 4s/step - loss: 0.0617 - accuracy: 0.9735 - val_loss: 0.0532 - val_accuracy: 0.9884\n",
      "Epoch 9/25\n",
      "249/249 [==============================] - 993s 4s/step - loss: 0.0793 - accuracy: 0.9732 - val_loss: 0.0470 - val_accuracy: 0.9879\n",
      "Epoch 10/25\n",
      "249/249 [==============================] - 993s 4s/step - loss: 0.0585 - accuracy: 0.9763 - val_loss: 0.0502 - val_accuracy: 0.9889\n",
      "Epoch 11/25\n",
      "249/249 [==============================] - 993s 4s/step - loss: 0.0655 - accuracy: 0.9760 - val_loss: 0.0702 - val_accuracy: 0.9889\n",
      "Epoch 12/25\n",
      "249/249 [==============================] - 992s 4s/step - loss: 0.0743 - accuracy: 0.9764 - val_loss: 0.0559 - val_accuracy: 0.9884\n",
      "Epoch 13/25\n",
      "249/249 [==============================] - 993s 4s/step - loss: 0.0599 - accuracy: 0.9765 - val_loss: 0.0459 - val_accuracy: 0.9884\n",
      "Epoch 14/25\n",
      "249/249 [==============================] - 994s 4s/step - loss: 0.0580 - accuracy: 0.9782 - val_loss: 0.0641 - val_accuracy: 0.9879\n",
      "Epoch 15/25\n",
      "249/249 [==============================] - 994s 4s/step - loss: 0.0581 - accuracy: 0.9788 - val_loss: 0.0470 - val_accuracy: 0.9884\n",
      "Epoch 16/25\n",
      "249/249 [==============================] - 993s 4s/step - loss: 0.0554 - accuracy: 0.9772 - val_loss: 0.0394 - val_accuracy: 0.9884\n",
      "Epoch 17/25\n",
      "249/249 [==============================] - 993s 4s/step - loss: 0.0573 - accuracy: 0.9773 - val_loss: 0.0772 - val_accuracy: 0.9884\n",
      "Epoch 18/25\n",
      "249/249 [==============================] - 993s 4s/step - loss: 0.0549 - accuracy: 0.9772 - val_loss: 0.0413 - val_accuracy: 0.9889\n",
      "Epoch 19/25\n",
      "249/249 [==============================] - 993s 4s/step - loss: 0.0473 - accuracy: 0.9791 - val_loss: 0.0472 - val_accuracy: 0.9889\n",
      "Epoch 20/25\n",
      "249/249 [==============================] - 995s 4s/step - loss: 0.0553 - accuracy: 0.9738 - val_loss: 0.0494 - val_accuracy: 0.9889\n",
      "Epoch 21/25\n",
      "249/249 [==============================] - 994s 4s/step - loss: 0.0555 - accuracy: 0.9772 - val_loss: 0.0483 - val_accuracy: 0.9884\n",
      "Epoch 22/25\n",
      "249/249 [==============================] - 994s 4s/step - loss: 0.0538 - accuracy: 0.9785 - val_loss: 0.0486 - val_accuracy: 0.9879\n",
      "Epoch 23/25\n",
      "249/249 [==============================] - 993s 4s/step - loss: 0.0562 - accuracy: 0.9782 - val_loss: 0.0448 - val_accuracy: 0.9884\n",
      "Epoch 24/25\n",
      "249/249 [==============================] - 993s 4s/step - loss: 0.0563 - accuracy: 0.9766 - val_loss: 0.0438 - val_accuracy: 0.9884\n",
      "Epoch 25/25\n",
      "249/249 [==============================] - 993s 4s/step - loss: 0.0514 - accuracy: 0.9779 - val_loss: 0.0433 - val_accuracy: 0.9884\n"
     ]
    }
   ],
   "source": [
    "history = cnn.fit(x=training_set, validation_data=test_set, epochs=25)"
   ]
  },
  {
   "cell_type": "markdown",
   "metadata": {},
   "source": [
    "Historia trenowania modelu."
   ]
  },
  {
   "cell_type": "code",
   "execution_count": 8,
   "metadata": {},
   "outputs": [],
   "source": [
    "import matplotlib.pyplot as plt"
   ]
  },
  {
   "cell_type": "code",
   "execution_count": 9,
   "metadata": {},
   "outputs": [
    {
     "data": {
      "image/png": "[encoded data removed]",
      "text/plain": [
       "<Figure size 432x288 with 1 Axes>"
      ]
     },
     "metadata": {
      "needs_background": "light"
     },
     "output_type": "display_data"
    }
   ],
   "source": [
    "plt.plot(history.history['accuracy'])\n",
    "plt.plot(history.history['val_accuracy'])\n",
    "plt.title('model accuracy')\n",
    "plt.ylabel('accuracy')\n",
    "plt.xlabel('epoch')\n",
    "plt.legend(['train', 'test'], loc='upper left')\n",
    "plt.show()"
   ]
  },
  {
   "cell_type": "code",
   "execution_count": 10,
   "metadata": {},
   "outputs": [
    {
     "data": {
      "image/png": "[encoded data removed]",
      "text/plain": [
       "<Figure size 432x288 with 1 Axes>"
      ]
     },
     "metadata": {
      "needs_background": "light"
     },
     "output_type": "display_data"
    }
   ],
   "source": [
    "plt.plot(history.history['loss'])\n",
    "plt.plot(history.history['val_loss'])\n",
    "plt.title('model loss')\n",
    "plt.ylabel('loss')\n",
    "plt.xlabel('epoch')\n",
    "plt.legend(['train', 'test'], loc='upper left')\n",
    "plt.show()"
   ]
  },
  {
   "cell_type": "markdown",
   "id": "eligible-responsibility",
   "metadata": {},
   "source": [
    "Zapisujemy model."
   ]
  },
  {
   "cell_type": "code",
   "execution_count": 11,
   "id": "confused-swaziland",
   "metadata": {},
   "outputs": [],
   "source": [
    "cnn_json_structure = cnn.to_json()\n",
    "with open(\"simple_cnn.json\", \"w\") as json_file:\n",
    "    json_file.write(cnn_json_structure)\n",
    "cnn.save_weights(\"simple_cnn.h5\")"
   ]
  },
  {
   "cell_type": "markdown",
   "id": "informational-yellow",
   "metadata": {},
   "source": [
    "Ładujemy model, żeby sprawdzić czy poprawnie zapisaliśmy go."
   ]
  },
  {
   "cell_type": "code",
   "execution_count": 12,
   "id": "surrounded-silicon",
   "metadata": {},
   "outputs": [],
   "source": [
    "from tensorflow.keras.models import model_from_json"
   ]
  },
  {
   "cell_type": "code",
   "execution_count": 13,
   "id": "running-burton",
   "metadata": {},
   "outputs": [],
   "source": [
    "json_file = open('simple_cnn.json', 'r')\n",
    "cnn_json_structure = json_file.read()\n",
    "json_file.close()\n",
    "cnn = model_from_json(cnn_json_structure)\n",
    "cnn.load_weights(\"simple_cnn.h5\")"
   ]
  },
  {
   "cell_type": "markdown",
   "id": "cellular-buying",
   "metadata": {},
   "source": [
    "Robimy kilka testowych pojedynczych.\n",
    "1) dla czerniaka niezłośliwego"
   ]
  },
  {
   "cell_type": "code",
   "execution_count": 21,
   "id": "bound-damages",
   "metadata": {},
   "outputs": [],
   "source": [
    "import numpy as np\n",
    "from tensorflow.keras.preprocessing import image"
   ]
  },
  {
   "cell_type": "code",
   "execution_count": 22,
   "id": "terminal-jewel",
   "metadata": {},
   "outputs": [],
   "source": [
    "test_image = image.load_img('single_prediction_gallery/benign.jpg', target_size = (128, 128))\n",
    "test_image = image.img_to_array(test_image)\n",
    "test_image = np.expand_dims(test_image, axis=0)\n",
    "test_image *= (1/255.0)\n",
    "result = cnn.predict(test_image)"
   ]
  },
  {
   "cell_type": "code",
   "execution_count": 23,
   "id": "normal-postcard",
   "metadata": {},
   "outputs": [
    {
     "data": {
      "text/plain": [
       "{'benign': 0, 'malignant': 1}"
      ]
     },
     "execution_count": 23,
     "metadata": {},
     "output_type": "execute_result"
    }
   ],
   "source": [
    "training_set.class_indices"
   ]
  },
  {
   "cell_type": "code",
   "execution_count": 24,
   "id": "informational-behavior",
   "metadata": {},
   "outputs": [
    {
     "data": {
      "text/plain": [
       "array([[0.]], dtype=float32)"
      ]
     },
     "execution_count": 24,
     "metadata": {},
     "output_type": "execute_result"
    }
   ],
   "source": [
    "result"
   ]
  },
  {
   "cell_type": "markdown",
   "id": "accredited-happening",
   "metadata": {},
   "source": [
    "2) dla czerniaka złośliwego"
   ]
  },
  {
   "cell_type": "code",
   "execution_count": 25,
   "id": "herbal-honolulu",
   "metadata": {},
   "outputs": [],
   "source": [
    "test_image = image.load_img('single_prediction_gallery/malignant.jpg', target_size = (128, 128))\n",
    "test_image = image.img_to_array(test_image)\n",
    "test_image = np.expand_dims(test_image, axis=0)\n",
    "test_image *= (1/255.0)\n",
    "result = cnn.predict(test_image)"
   ]
  },
  {
   "cell_type": "code",
   "execution_count": 26,
   "id": "owned-disclaimer",
   "metadata": {},
   "outputs": [
    {
     "data": {
      "text/plain": [
       "array([[0.00085427]], dtype=float32)"
      ]
     },
     "execution_count": 26,
     "metadata": {},
     "output_type": "execute_result"
    }
   ],
   "source": [
    "result"
   ]
  },
  {
   "cell_type": "code",
   "execution_count": null,
   "metadata": {},
   "outputs": [],
   "source": []
  }
 ],
 "metadata": {
  "kernelspec": {
   "display_name": "Python 3",
   "language": "python",
   "name": "python3"
  },
  "language_info": {
   "codemirror_mode": {
    "name": "ipython",
    "version": 3
   },
   "file_extension": ".py",
   "mimetype": "text/x-python",
   "name": "python",
   "nbconvert_exporter": "python",
   "pygments_lexer": "ipython3",
   "version": "3.6.9"
  }
 },
 "nbformat": 4,
 "nbformat_minor": 5
}
