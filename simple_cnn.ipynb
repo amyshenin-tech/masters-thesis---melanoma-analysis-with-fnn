{
 "cells": [
  {
   "cell_type": "markdown",
   "id": "contained-sierra",
   "metadata": {},
   "source": [
    "# Rozpoznanie czerniaka na obrazku za pomocą prostej sieci konwolucyjnej"
   ]
  },
  {
   "cell_type": "markdown",
   "id": "rough-throat",
   "metadata": {},
   "source": [
    "Zaczynamy od wstępnego przetwarzania danych danych treningowych i testowych za pomocą klasy `ImageDataGenerator`.\n",
    "Za jej pomocą osiągamy kilku celów:\n",
    "- zwiększamy ilość danych testowych, ponieważ `ImageDataGenerator` tworzy nowe obrazy ze starych, stosując transformacji (skalowanie, horyzontalne obracanie, itd).\n",
    "- formatowanie obrazów do konwolucji"
   ]
  },
  {
   "cell_type": "code",
   "execution_count": 1,
   "id": "mathematical-jason",
   "metadata": {},
   "outputs": [],
   "source": [
    "from tensorflow.keras.preprocessing.image import ImageDataGenerator"
   ]
  },
  {
   "cell_type": "code",
   "execution_count": 2,
   "id": "hundred-leave",
   "metadata": {},
   "outputs": [
    {
     "name": "stdout",
     "output_type": "stream",
     "text": [
      "Found 4000 images belonging to 2 classes.\n"
     ]
    }
   ],
   "source": [
    "train_datagen = ImageDataGenerator(rescale = 1./255,\n",
    "                                   shear_range = 0.2,\n",
    "                                   zoom_range = 0.2,\n",
    "                                   horizontal_flip = True)\n",
    "training_set = train_datagen.flow_from_directory('training_galery',\n",
    "                                                 target_size = (128, 128),\n",
    "                                                 batch_size = 32,\n",
    "                                                 class_mode = 'binary')"
   ]
  },
  {
   "cell_type": "code",
   "execution_count": 3,
   "id": "unusual-cooling",
   "metadata": {},
   "outputs": [
    {
     "name": "stdout",
     "output_type": "stream",
     "text": [
      "Found 1000 images belonging to 2 classes.\n"
     ]
    }
   ],
   "source": [
    "test_datagen = ImageDataGenerator(rescale = 1./255)\n",
    "test_set = test_datagen.flow_from_directory('testing_galery',\n",
    "                                            target_size = (128, 128),\n",
    "                                            batch_size = 32,\n",
    "                                            class_mode = 'binary')"
   ]
  },
  {
   "cell_type": "markdown",
   "id": "complimentary-december",
   "metadata": {},
   "source": [
    "Budujemy sieć konwolucyjną z 3 warstwami konwolucyjnymi (ang. convolutional layer) i 2 warstwami gęstymi (ang. dense layer)."
   ]
  },
  {
   "cell_type": "code",
   "execution_count": 4,
   "id": "specialized-teacher",
   "metadata": {},
   "outputs": [],
   "source": [
    "from tensorflow.keras.models import Sequential\n",
    "from tensorflow.keras.layers import Conv2D, MaxPool2D, Dense, Flatten"
   ]
  },
  {
   "cell_type": "markdown",
   "id": "jewish-thirty",
   "metadata": {},
   "source": [
    "Tworzymy strategiję obliczeniową."
   ]
  },
  {
   "cell_type": "code",
   "execution_count": 5,
   "id": "former-contest",
   "metadata": {},
   "outputs": [],
   "source": [
    "cnn = Sequential([\n",
    "    # pierwsza warstwa konwolucyjna\n",
    "    Conv2D(filters=64, kernel_size=3, activation='relu', input_shape=(128, 128, 3)),\n",
    "    MaxPool2D(pool_size=2, strides=2),\n",
    "\n",
    "    # druga warstwa konwolucyjna\n",
    "    Conv2D(filters=64, kernel_size=3, activation='relu'),\n",
    "    MaxPool2D(pool_size=2, strides=2),\n",
    "\n",
    "    # trzecia warstwa konwolucyjna\n",
    "    Conv2D(filters=64, kernel_size=3, activation='relu'),\n",
    "    MaxPool2D(pool_size=2, strides=2),\n",
    "\n",
    "    # wyprostowanie\n",
    "    Flatten(),\n",
    "\n",
    "    # 2 warstwy gęste\n",
    "    Dense(units=128, activation='relu'),\n",
    "    Dense(units=128, activation='relu'),\n",
    "\n",
    "    # warstwa wyjściowa\n",
    "    Dense(units=1, activation='sigmoid')\n",
    "])"
   ]
  },
  {
   "cell_type": "markdown",
   "id": "numeric-monitor",
   "metadata": {},
   "source": [
    "Kompilujemy poprzednio zbudowany model."
   ]
  },
  {
   "cell_type": "code",
   "execution_count": 6,
   "id": "precious-possibility",
   "metadata": {},
   "outputs": [],
   "source": [
    "cnn.compile(optimizer='adam', loss='binary_crossentropy', metrics=['accuracy'])"
   ]
  },
  {
   "cell_type": "markdown",
   "id": "spatial-communication",
   "metadata": {},
   "source": [
    "Trenujemy sieć konwolucyjną."
   ]
  },
  {
   "cell_type": "code",
   "execution_count": 7,
   "id": "surgical-forward",
   "metadata": {
    "scrolled": false
   },
   "outputs": [
    {
     "name": "stdout",
     "output_type": "stream",
     "text": [
      "Epoch 1/25\n",
      "125/125 [==============================] - 215s 2s/step - loss: 0.3351 - accuracy: 0.8469 - val_loss: 0.0496 - val_accuracy: 0.9880\n",
      "Epoch 2/25\n",
      "125/125 [==============================] - 212s 2s/step - loss: 0.0739 - accuracy: 0.9780 - val_loss: 0.0333 - val_accuracy: 0.9910\n",
      "Epoch 3/25\n",
      "125/125 [==============================] - 212s 2s/step - loss: 0.0507 - accuracy: 0.9840 - val_loss: 0.1104 - val_accuracy: 0.9710\n",
      "Epoch 4/25\n",
      "125/125 [==============================] - 212s 2s/step - loss: 0.0728 - accuracy: 0.9817 - val_loss: 0.0526 - val_accuracy: 0.9850\n",
      "Epoch 5/25\n",
      "125/125 [==============================] - 212s 2s/step - loss: 0.0601 - accuracy: 0.9849 - val_loss: 0.0329 - val_accuracy: 0.9910\n",
      "Epoch 6/25\n",
      "125/125 [==============================] - 212s 2s/step - loss: 0.0453 - accuracy: 0.9887 - val_loss: 0.0223 - val_accuracy: 0.9930\n",
      "Epoch 7/25\n",
      "125/125 [==============================] - 212s 2s/step - loss: 0.0311 - accuracy: 0.9893 - val_loss: 0.0208 - val_accuracy: 0.9930\n",
      "Epoch 8/25\n",
      "125/125 [==============================] - 212s 2s/step - loss: 0.0220 - accuracy: 0.9940 - val_loss: 0.0185 - val_accuracy: 0.9930\n",
      "Epoch 9/25\n",
      "125/125 [==============================] - 212s 2s/step - loss: 0.0351 - accuracy: 0.9904 - val_loss: 0.0138 - val_accuracy: 0.9930\n",
      "Epoch 10/25\n",
      "125/125 [==============================] - 212s 2s/step - loss: 0.0192 - accuracy: 0.9931 - val_loss: 0.0146 - val_accuracy: 0.9940\n",
      "Epoch 11/25\n",
      "125/125 [==============================] - 212s 2s/step - loss: 0.0162 - accuracy: 0.9948 - val_loss: 0.0170 - val_accuracy: 0.9970\n",
      "Epoch 12/25\n",
      "125/125 [==============================] - 212s 2s/step - loss: 0.0165 - accuracy: 0.9955 - val_loss: 0.0109 - val_accuracy: 0.9950\n",
      "Epoch 13/25\n",
      "125/125 [==============================] - 212s 2s/step - loss: 0.0156 - accuracy: 0.9948 - val_loss: 0.0122 - val_accuracy: 0.9940\n",
      "Epoch 14/25\n",
      "125/125 [==============================] - 212s 2s/step - loss: 0.0056 - accuracy: 0.9988 - val_loss: 0.0039 - val_accuracy: 0.9990\n",
      "Epoch 15/25\n",
      "125/125 [==============================] - 212s 2s/step - loss: 0.0235 - accuracy: 0.9915 - val_loss: 0.0323 - val_accuracy: 0.9900\n",
      "Epoch 16/25\n",
      "125/125 [==============================] - 212s 2s/step - loss: 0.0383 - accuracy: 0.9913 - val_loss: 0.0180 - val_accuracy: 0.9950\n",
      "Epoch 17/25\n",
      "125/125 [==============================] - 212s 2s/step - loss: 0.0321 - accuracy: 0.9907 - val_loss: 0.0094 - val_accuracy: 0.9960\n",
      "Epoch 18/25\n",
      "125/125 [==============================] - 212s 2s/step - loss: 0.0161 - accuracy: 0.9961 - val_loss: 0.0354 - val_accuracy: 0.9850\n",
      "Epoch 19/25\n",
      "125/125 [==============================] - 212s 2s/step - loss: 0.0099 - accuracy: 0.9968 - val_loss: 0.0180 - val_accuracy: 0.9930\n",
      "Epoch 20/25\n",
      "125/125 [==============================] - 212s 2s/step - loss: 0.0062 - accuracy: 0.9970 - val_loss: 0.0209 - val_accuracy: 0.9930\n",
      "Epoch 21/25\n",
      "125/125 [==============================] - 212s 2s/step - loss: 0.0251 - accuracy: 0.9925 - val_loss: 0.0045 - val_accuracy: 0.9970\n",
      "Epoch 22/25\n",
      "125/125 [==============================] - 212s 2s/step - loss: 0.0052 - accuracy: 0.9984 - val_loss: 0.0069 - val_accuracy: 0.9970\n",
      "Epoch 23/25\n",
      "125/125 [==============================] - 212s 2s/step - loss: 0.0055 - accuracy: 0.9990 - val_loss: 0.0090 - val_accuracy: 0.9980\n",
      "Epoch 24/25\n",
      "125/125 [==============================] - 212s 2s/step - loss: 0.0050 - accuracy: 0.9987 - val_loss: 0.1286 - val_accuracy: 0.9570\n",
      "Epoch 25/25\n",
      "125/125 [==============================] - 212s 2s/step - loss: 0.0399 - accuracy: 0.9895 - val_loss: 0.0039 - val_accuracy: 0.9990\n"
     ]
    }
   ],
   "source": [
    "history = cnn.fit(x=training_set, validation_data=test_set, epochs=25)"
   ]
  },
  {
   "cell_type": "markdown",
   "metadata": {},
   "source": [
    "Historia trenowania modelu."
   ]
  },
  {
   "cell_type": "code",
   "execution_count": 8,
   "metadata": {},
   "outputs": [],
   "source": [
    "import matplotlib.pyplot as plt"
   ]
  },
  {
   "cell_type": "code",
   "execution_count": 9,
   "metadata": {},
   "outputs": [
    {
     "data": {
      "image/png": "[encoded data removed]",
      "text/plain": [
       "<Figure size 432x288 with 1 Axes>"
      ]
     },
     "metadata": {
      "needs_background": "light"
     },
     "output_type": "display_data"
    }
   ],
   "source": [
    "plt.plot(history.history['accuracy'])\n",
    "plt.plot(history.history['val_accuracy'])\n",
    "plt.title('model accuracy')\n",
    "plt.ylabel('accuracy')\n",
    "plt.xlabel('epoch')\n",
    "plt.legend(['train', 'test'], loc='upper left')\n",
    "plt.show()"
   ]
  },
  {
   "cell_type": "code",
   "execution_count": 10,
   "metadata": {},
   "outputs": [
    {
     "data": {
      "image/png": "[encoded data removed]",
      "text/plain": [
       "<Figure size 432x288 with 1 Axes>"
      ]
     },
     "metadata": {
      "needs_background": "light"
     },
     "output_type": "display_data"
    }
   ],
   "source": [
    "plt.plot(history.history['loss'])\n",
    "plt.plot(history.history['val_loss'])\n",
    "plt.title('model loss')\n",
    "plt.ylabel('loss')\n",
    "plt.xlabel('epoch')\n",
    "plt.legend(['train', 'test'], loc='upper left')\n",
    "plt.show()"
   ]
  },
  {
   "cell_type": "markdown",
   "id": "eligible-responsibility",
   "metadata": {},
   "source": [
    "Zapisujemy model."
   ]
  },
  {
   "cell_type": "code",
   "execution_count": 11,
   "id": "confused-swaziland",
   "metadata": {},
   "outputs": [],
   "source": [
    "cnn_json_structure = cnn.to_json()\n",
    "with open(\"simple_cnn.json\", \"w\") as json_file:\n",
    "    json_file.write(cnn_json_structure)\n",
    "cnn.save_weights(\"simple_cnn.h5\")"
   ]
  },
  {
   "cell_type": "markdown",
   "id": "informational-yellow",
   "metadata": {},
   "source": [
    "Ładujemy model, żeby sprawdzić czy poprawnie zapisaliśmy go."
   ]
  },
  {
   "cell_type": "code",
   "execution_count": 29,
   "id": "surrounded-silicon",
   "metadata": {},
   "outputs": [],
   "source": [
    "from tensorflow.keras.models import model_from_json"
   ]
  },
  {
   "cell_type": "code",
   "execution_count": 30,
   "id": "running-burton",
   "metadata": {},
   "outputs": [],
   "source": [
    "json_file = open('simple_cnn.json', 'r')\n",
    "cnn_json_structure = json_file.read()\n",
    "json_file.close()\n",
    "cnn = model_from_json(cnn_json_structure)\n",
    "cnn.load_weights(\"simple_cnn.h5\")"
   ]
  },
  {
   "cell_type": "markdown",
   "id": "cellular-buying",
   "metadata": {},
   "source": [
    "Robimy kilka testowych pojedynczych.\n",
    "1) dla prawdziwej melanomy (obazek z ISIC, który nie był wykorzystywany przy nauczeniu się)."
   ]
  },
  {
   "cell_type": "code",
   "execution_count": 31,
   "id": "bound-damages",
   "metadata": {},
   "outputs": [],
   "source": [
    "import numpy as np\n",
    "from tensorflow.keras.preprocessing import image"
   ]
  },
  {
   "cell_type": "code",
   "execution_count": 32,
   "id": "terminal-jewel",
   "metadata": {},
   "outputs": [],
   "source": [
    "test_image = image.load_img('single_prediction_galery/ISIC_0010000.jpg', target_size = (128, 128))\n",
    "test_image = image.img_to_array(test_image)\n",
    "test_image = np.expand_dims(test_image, axis=0)\n",
    "test_image *= (1/255.0)\n",
    "result = cnn.predict(test_image)"
   ]
  },
  {
   "cell_type": "code",
   "execution_count": 33,
   "id": "normal-postcard",
   "metadata": {},
   "outputs": [
    {
     "data": {
      "text/plain": [
       "{'melanoma': 0, 'other': 1}"
      ]
     },
     "execution_count": 33,
     "metadata": {},
     "output_type": "execute_result"
    }
   ],
   "source": [
    "training_set.class_indices"
   ]
  },
  {
   "cell_type": "code",
   "execution_count": 34,
   "id": "informational-behavior",
   "metadata": {},
   "outputs": [
    {
     "data": {
      "text/plain": [
       "array([[0.00019999]], dtype=float32)"
      ]
     },
     "execution_count": 34,
     "metadata": {},
     "output_type": "execute_result"
    }
   ],
   "source": [
    "result"
   ]
  },
  {
   "cell_type": "markdown",
   "id": "accredited-happening",
   "metadata": {},
   "source": [
    "2) dla ospy wietrznej (może być podobna)"
   ]
  },
  {
   "cell_type": "code",
   "execution_count": 35,
   "id": "herbal-honolulu",
   "metadata": {},
   "outputs": [],
   "source": [
    "test_image = image.load_img('single_prediction_galery/ospa.jpg', target_size = (128, 128))\n",
    "test_image = image.img_to_array(test_image)\n",
    "test_image = np.expand_dims(test_image, axis=0)\n",
    "test_image *= (1/255.0)\n",
    "result = cnn.predict(test_image)"
   ]
  },
  {
   "cell_type": "code",
   "execution_count": 36,
   "id": "owned-disclaimer",
   "metadata": {},
   "outputs": [
    {
     "data": {
      "text/plain": [
       "array([[0.00013552]], dtype=float32)"
      ]
     },
     "execution_count": 36,
     "metadata": {},
     "output_type": "execute_result"
    }
   ],
   "source": [
    "result"
   ]
  },
  {
   "cell_type": "markdown",
   "id": "human-dublin",
   "metadata": {},
   "source": [
    "3) dla kota (to co nie ma nijakiego związku)"
   ]
  },
  {
   "cell_type": "code",
   "execution_count": 39,
   "id": "instrumental-inflation",
   "metadata": {},
   "outputs": [],
   "source": [
    "test_image = image.load_img('single_prediction_galery/kotek.jpg', target_size = (128, 128))\n",
    "test_image = image.img_to_array(test_image)\n",
    "test_image = np.expand_dims(test_image, axis=0)\n",
    "test_image *= (1/255.0)\n",
    "result = cnn.predict(test_image)"
   ]
  },
  {
   "cell_type": "code",
   "execution_count": 40,
   "id": "domestic-blues",
   "metadata": {},
   "outputs": [
    {
     "data": {
      "text/plain": [
       "array([[0.9999988]], dtype=float32)"
      ]
     },
     "execution_count": 40,
     "metadata": {},
     "output_type": "execute_result"
    }
   ],
   "source": [
    "result"
   ]
  },
  {
   "cell_type": "code",
   "execution_count": null,
   "metadata": {},
   "outputs": [],
   "source": []
  }
 ],
 "metadata": {
  "kernelspec": {
   "display_name": "Python 3",
   "language": "python",
   "name": "python3"
  },
  "language_info": {
   "codemirror_mode": {
    "name": "ipython",
    "version": 3
   },
   "file_extension": ".py",
   "mimetype": "text/x-python",
   "name": "python",
   "nbconvert_exporter": "python",
   "pygments_lexer": "ipython3",
   "version": "3.6.9"
  }
 },
 "nbformat": 4,
 "nbformat_minor": 5
}
