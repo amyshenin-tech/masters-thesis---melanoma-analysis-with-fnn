{
 "cells": [
  {
   "cell_type": "markdown",
   "metadata": {},
   "source": [
    "# Wstępnie trenowana konwolucyjna sieć neuronowa (ang. Pre-trained convolutional neural network) Inception ResNet V2 w analizie czerniaka"
   ]
  },
  {
   "cell_type": "markdown",
   "metadata": {},
   "source": [
    "## Tworzymy model"
   ]
  },
  {
   "cell_type": "code",
   "execution_count": 1,
   "metadata": {
    "execution": {
     "iopub.execute_input": "2021-04-19T17:05:04.722811Z",
     "iopub.status.busy": "2021-04-19T17:05:04.720932Z",
     "iopub.status.idle": "2021-04-19T17:05:10.108740Z",
     "shell.execute_reply": "2021-04-19T17:05:10.109257Z"
    }
   },
   "outputs": [
    {
     "name": "stderr",
     "output_type": "stream",
     "text": [
      "Matplotlib created a temporary config/cache directory at /tmp/matplotlib-2goqerwg because the default path (/.config/matplotlib) is not a writable directory; it is highly recommended to set the MPLCONFIGDIR environment variable to a writable directory, in particular to speed up the import of Matplotlib and to better support multiprocessing.\n"
     ]
    },
    {
     "name": "stdout",
     "output_type": "stream",
     "text": [
      "INFO:tensorflow:Enabling eager execution\n",
      "INFO:tensorflow:Enabling v2 tensorshape\n",
      "INFO:tensorflow:Enabling resource variables\n",
      "INFO:tensorflow:Enabling tensor equality\n",
      "INFO:tensorflow:Enabling control flow v2\n"
     ]
    }
   ],
   "source": [
    "import os\n",
    "import datetime\n",
    "\n",
    "import numpy as np\n",
    "import matplotlib.pyplot as plt\n",
    "from sklearn.metrics import roc_curve, auc\n",
    "\n",
    "import tensorflow_hub as hub\n",
    "from tensorflow.keras.layers import Dense\n",
    "from tensorflow.keras.models import Sequential\n",
    "from tensorflow.keras.preprocessing.image import ImageDataGenerator\n",
    "from tensorflow.keras.callbacks import TensorBoard, ModelCheckpoint, EarlyStopping"
   ]
  },
  {
   "cell_type": "markdown",
   "metadata": {},
   "source": [
    "Ładujemy dane do trenowania i walidacji."
   ]
  },
  {
   "cell_type": "code",
   "execution_count": 2,
   "metadata": {
    "execution": {
     "iopub.execute_input": "2021-04-19T17:05:10.115011Z",
     "iopub.status.busy": "2021-04-19T17:05:10.114423Z",
     "iopub.status.idle": "2021-04-19T17:05:11.065237Z",
     "shell.execute_reply": "2021-04-19T17:05:11.066109Z"
    }
   },
   "outputs": [
    {
     "name": "stdout",
     "output_type": "stream",
     "text": [
      "Found 23400 images belonging to 10 classes.\n",
      "Found 5845 images belonging to 10 classes.\n"
     ]
    }
   ],
   "source": [
    "datagen = ImageDataGenerator(rescale=1. / 255, validation_split=0.2)\n",
    "training_set = datagen.flow_from_directory('/isic-train-large',\n",
    "                                           target_size=(299, 299),\n",
    "                                           batch_size=32,\n",
    "                                           class_mode='categorical',\n",
    "                                           subset='training')\n",
    "validation_set = datagen.flow_from_directory('/isic-train-large',\n",
    "                                           target_size=(299, 299),\n",
    "                                           batch_size=32,\n",
    "                                           class_mode='categorical',\n",
    "                                           subset='validation')"
   ]
  },
  {
   "cell_type": "markdown",
   "metadata": {},
   "source": [
    "Zapisujemy ilość diagnoz do zmiennej."
   ]
  },
  {
   "cell_type": "code",
   "execution_count": 3,
   "metadata": {
    "execution": {
     "iopub.execute_input": "2021-04-19T17:05:11.070835Z",
     "iopub.status.busy": "2021-04-19T17:05:11.069817Z",
     "iopub.status.idle": "2021-04-19T17:05:11.072116Z",
     "shell.execute_reply": "2021-04-19T17:05:11.072975Z"
    }
   },
   "outputs": [],
   "source": [
    "DIAGNOSIS_NUMBER = len(training_set.class_indices)"
   ]
  },
  {
   "cell_type": "markdown",
   "metadata": {},
   "source": [
    "Budujemy model - sieć konwolucyjną z 3 warstwami konwolucyjnymi (ang. convolutional layer) i 2 warstwami gęstymi (ang. dense layer)."
   ]
  },
  {
   "cell_type": "code",
   "execution_count": 4,
   "metadata": {
    "execution": {
     "iopub.execute_input": "2021-04-19T17:05:11.077502Z",
     "iopub.status.busy": "2021-04-19T17:05:11.077066Z",
     "iopub.status.idle": "2021-04-19T17:05:35.005277Z",
     "shell.execute_reply": "2021-04-19T17:05:35.004341Z"
    }
   },
   "outputs": [],
   "source": [
    "model = Sequential([\n",
    "    hub.KerasLayer(\"https://tfhub.dev/google/imagenet/inception_resnet_v2/feature_vector/4\",\n",
    "                   trainable=False),\n",
    "    Dense(DIAGNOSIS_NUMBER, activation='softmax')\n",
    "])\n",
    "model.build([None, 299, 299, 3])"
   ]
  },
  {
   "cell_type": "code",
   "execution_count": 5,
   "metadata": {
    "execution": {
     "iopub.execute_input": "2021-04-19T17:05:35.018225Z",
     "iopub.status.busy": "2021-04-19T17:05:35.016934Z",
     "iopub.status.idle": "2021-04-19T17:05:35.026526Z",
     "shell.execute_reply": "2021-04-19T17:05:35.025539Z"
    }
   },
   "outputs": [],
   "source": [
    "model.compile(optimizer='adam', loss='categorical_crossentropy', metrics=['accuracy'])"
   ]
  },
  {
   "cell_type": "markdown",
   "metadata": {},
   "source": [
    "Dodajemy funkcjonalność zbierania danych o wydajności modelu do Tensorboard."
   ]
  },
  {
   "cell_type": "code",
   "execution_count": 6,
   "metadata": {
    "execution": {
     "iopub.execute_input": "2021-04-19T17:05:35.031292Z",
     "iopub.status.busy": "2021-04-19T17:05:35.030697Z",
     "iopub.status.idle": "2021-04-19T17:05:35.366982Z",
     "shell.execute_reply": "2021-04-19T17:05:35.366002Z"
    }
   },
   "outputs": [],
   "source": [
    "log_dir = '../logs/fit/' + datetime.datetime.now().strftime('inception_resnet_v2')\n",
    "tensorboard_callback = TensorBoard(log_dir=log_dir, histogram_freq=1)"
   ]
  },
  {
   "cell_type": "markdown",
   "metadata": {},
   "source": [
    "Dodajemy funkcjonalność zapisywania modelu w trakcie jego trenowania. Zwóćmy uwagę, że zapisywany jest tylko jeden model i lepszy nadpisuje gorszy."
   ]
  },
  {
   "cell_type": "code",
   "execution_count": 7,
   "metadata": {
    "execution": {
     "iopub.execute_input": "2021-04-19T17:05:35.373040Z",
     "iopub.status.busy": "2021-04-19T17:05:35.371957Z",
     "iopub.status.idle": "2021-04-19T17:05:35.375468Z",
     "shell.execute_reply": "2021-04-19T17:05:35.374330Z"
    }
   },
   "outputs": [],
   "source": [
    "checkpoint_path = 'checkpoints/inception_resnet_v2.ckpt'\n",
    "checkpoint_dir = os.path.dirname(checkpoint_path)\n",
    "\n",
    "checkpoint_callback = ModelCheckpoint(\n",
    "    checkpoint_path,\n",
    "    monitor='val_loss',\n",
    "    verbose=1,\n",
    "    save_best_only=True,\n",
    "    save_weights_only=False,\n",
    "    save_freq='epoch',\n",
    "    mode='auto')"
   ]
  },
  {
   "cell_type": "markdown",
   "metadata": {},
   "source": [
    "Dodajemy funkcjonalność zatrzymania trenowania modelu, jeśli nie będzie poprawy w ciągu 10 epoch."
   ]
  },
  {
   "cell_type": "code",
   "execution_count": 8,
   "metadata": {
    "execution": {
     "iopub.execute_input": "2021-04-19T17:05:35.379589Z",
     "iopub.status.busy": "2021-04-19T17:05:35.379007Z",
     "iopub.status.idle": "2021-04-19T17:05:35.381777Z",
     "shell.execute_reply": "2021-04-19T17:05:35.381207Z"
    }
   },
   "outputs": [],
   "source": [
    "early_stop_callback = EarlyStopping(monitor=\"val_loss\", min_delta=0.01, patience=10, restore_best_weights=True)"
   ]
  },
  {
   "cell_type": "markdown",
   "metadata": {},
   "source": [
    "Trenujemy model."
   ]
  },
  {
   "cell_type": "code",
   "execution_count": 9,
   "metadata": {
    "execution": {
     "iopub.execute_input": "2021-04-19T17:05:35.386237Z",
     "iopub.status.busy": "2021-04-19T17:05:35.385649Z",
     "iopub.status.idle": "2021-04-19T22:25:57.869242Z",
     "shell.execute_reply": "2021-04-19T22:25:57.879680Z"
    }
   },
   "outputs": [
    {
     "name": "stdout",
     "output_type": "stream",
     "text": [
      "Epoch 1/200\n",
      "732/732 [==============================] - 1776s 2s/step - loss: 1.0038 - accuracy: 0.6882 - val_loss: 0.8980 - val_accuracy: 0.7061\n",
      "\n",
      "Epoch 00001: val_loss improved from inf to 0.89805, saving model to checkpoints/inception_resnet_v2.ckpt\n",
      "INFO:tensorflow:Assets written to: checkpoints/inception_resnet_v2.ckpt/assets\n"
     ]
    },
    {
     "name": "stderr",
     "output_type": "stream",
     "text": [
      "INFO:tensorflow:Assets written to: checkpoints/inception_resnet_v2.ckpt/assets\n"
     ]
    },
    {
     "name": "stdout",
     "output_type": "stream",
     "text": [
      "Epoch 2/200\n",
      "732/732 [==============================] - 1744s 2s/step - loss: 0.7693 - accuracy: 0.7422 - val_loss: 0.9258 - val_accuracy: 0.6962\n",
      "\n",
      "Epoch 00002: val_loss did not improve from 0.89805\n",
      "Epoch 3/200\n",
      "732/732 [==============================] - 1739s 2s/step - loss: 0.7255 - accuracy: 0.7492 - val_loss: 1.1765 - val_accuracy: 0.6727\n",
      "\n",
      "Epoch 00003: val_loss did not improve from 0.89805\n",
      "Epoch 4/200\n",
      "732/732 [==============================] - 1742s 2s/step - loss: 0.7005 - accuracy: 0.7595 - val_loss: 1.0986 - val_accuracy: 0.6859\n",
      "\n",
      "Epoch 00004: val_loss did not improve from 0.89805\n",
      "Epoch 5/200\n",
      "732/732 [==============================] - 1739s 2s/step - loss: 0.6837 - accuracy: 0.7633 - val_loss: 1.0749 - val_accuracy: 0.6864\n",
      "\n",
      "Epoch 00005: val_loss did not improve from 0.89805\n",
      "Epoch 6/200\n",
      "732/732 [==============================] - 1739s 2s/step - loss: 0.6648 - accuracy: 0.7683 - val_loss: 1.0663 - val_accuracy: 0.6881\n",
      "\n",
      "Epoch 00006: val_loss did not improve from 0.89805\n",
      "Epoch 7/200\n",
      "732/732 [==============================] - 1738s 2s/step - loss: 0.6501 - accuracy: 0.7740 - val_loss: 1.0701 - val_accuracy: 0.6956\n",
      "\n",
      "Epoch 00007: val_loss did not improve from 0.89805\n",
      "Epoch 8/200\n",
      "732/732 [==============================] - 1738s 2s/step - loss: 0.6424 - accuracy: 0.7775 - val_loss: 1.1362 - val_accuracy: 0.6886\n",
      "\n",
      "Epoch 00008: val_loss did not improve from 0.89805\n",
      "Epoch 9/200\n",
      "732/732 [==============================] - 1738s 2s/step - loss: 0.6304 - accuracy: 0.7797 - val_loss: 1.0110 - val_accuracy: 0.7001\n",
      "\n",
      "Epoch 00009: val_loss did not improve from 0.89805\n",
      "Epoch 10/200\n",
      "732/732 [==============================] - 1737s 2s/step - loss: 0.6252 - accuracy: 0.7846 - val_loss: 0.9457 - val_accuracy: 0.7129\n",
      "\n",
      "Epoch 00010: val_loss did not improve from 0.89805\n",
      "Epoch 11/200\n",
      "732/732 [==============================] - 1738s 2s/step - loss: 0.6192 - accuracy: 0.7868 - val_loss: 1.0740 - val_accuracy: 0.6943\n",
      "\n",
      "Epoch 00011: val_loss did not improve from 0.89805\n"
     ]
    },
    {
     "data": {
      "text/plain": [
       "<tensorflow.python.keras.callbacks.History at 0x7f1eb24cfb38>"
      ]
     },
     "execution_count": 1,
     "metadata": {},
     "output_type": "execute_result"
    }
   ],
   "source": [
    "model.fit(training_set, validation_data=validation_set, epochs=200, callbacks=[tensorboard_callback,\n",
    "                                                                               checkpoint_callback,\n",
    "                                                                               early_stop_callback])"
   ]
  },
  {
   "cell_type": "markdown",
   "metadata": {},
   "source": [
    "## Szacujemy dokładność modelu"
   ]
  },
  {
   "cell_type": "markdown",
   "metadata": {},
   "source": [
    "Ładujemy dane do testowania."
   ]
  },
  {
   "cell_type": "code",
   "execution_count": 10,
   "metadata": {
    "execution": {
     "iopub.execute_input": "2021-04-19T22:25:57.907668Z",
     "iopub.status.busy": "2021-04-19T22:25:57.906566Z",
     "iopub.status.idle": "2021-04-19T22:25:58.135680Z",
     "shell.execute_reply": "2021-04-19T22:25:58.134486Z"
    }
   },
   "outputs": [
    {
     "name": "stdout",
     "output_type": "stream",
     "text": [
      "Found 7312 images belonging to 10 classes.\n"
     ]
    }
   ],
   "source": [
    "datagen = ImageDataGenerator(rescale=1. / 255)\n",
    "testing_set = datagen.flow_from_directory('/isic-test-large',\n",
    "                                           target_size=(299, 299),\n",
    "                                           batch_size=32,\n",
    "                                           class_mode='categorical')"
   ]
  },
  {
   "cell_type": "markdown",
   "metadata": {},
   "source": [
    "Pobieramy diagnozy z danych testowych."
   ]
  },
  {
   "cell_type": "code",
   "execution_count": 11,
   "metadata": {
    "execution": {
     "iopub.execute_input": "2021-04-19T22:25:58.144683Z",
     "iopub.status.busy": "2021-04-19T22:25:58.143674Z",
     "iopub.status.idle": "2021-04-19T22:32:58.870725Z",
     "shell.execute_reply": "2021-04-19T22:32:58.871118Z"
    }
   },
   "outputs": [],
   "source": [
    "true_labels = np.concatenate([testing_set[i][1] for i in range(len(testing_set))], axis=0)"
   ]
  },
  {
   "cell_type": "markdown",
   "metadata": {},
   "source": [
    "Prognozujemy diagnozy dla każdego obrazu."
   ]
  },
  {
   "cell_type": "code",
   "execution_count": 12,
   "metadata": {
    "execution": {
     "iopub.execute_input": "2021-04-19T22:32:58.880379Z",
     "iopub.status.busy": "2021-04-19T22:32:58.879304Z",
     "iopub.status.idle": "2021-04-19T22:39:32.318854Z",
     "shell.execute_reply": "2021-04-19T22:39:32.317874Z"
    }
   },
   "outputs": [],
   "source": [
    "predicted_labels = model.predict(testing_set)"
   ]
  },
  {
   "cell_type": "markdown",
   "metadata": {},
   "source": [
    "Obliczamy punkty wykresu ROC (Receiver operating characteristic) i metrykę AUC (Area under the curve)."
   ]
  },
  {
   "cell_type": "code",
   "execution_count": 13,
   "metadata": {
    "execution": {
     "iopub.execute_input": "2021-04-19T22:39:32.335170Z",
     "iopub.status.busy": "2021-04-19T22:39:32.333239Z",
     "iopub.status.idle": "2021-04-19T22:39:32.364054Z",
     "shell.execute_reply": "2021-04-19T22:39:32.363073Z"
    }
   },
   "outputs": [],
   "source": [
    "fpr = dict()\n",
    "tpr = dict()\n",
    "auc_metric = dict()\n",
    "\n",
    "diagnosis_index_dict = {v: k for k, v in training_set.class_indices.items()}\n",
    "\n",
    "for i in range(DIAGNOSIS_NUMBER):\n",
    "    diagnosis = diagnosis_index_dict[i]\n",
    "    fpr[diagnosis], tpr[diagnosis], _ = roc_curve(true_labels[:, i], predicted_labels[:, i])\n",
    "    auc_metric[diagnosis] = auc(fpr[diagnosis], tpr[diagnosis])"
   ]
  },
  {
   "cell_type": "markdown",
   "metadata": {},
   "source": [
    "Rysujemy wykres ROC (Receiver operating characteristic)."
   ]
  },
  {
   "cell_type": "code",
   "execution_count": 14,
   "metadata": {
    "execution": {
     "iopub.execute_input": "2021-04-19T22:39:32.398971Z",
     "iopub.status.busy": "2021-04-19T22:39:32.397901Z",
     "iopub.status.idle": "2021-04-19T22:39:32.647220Z",
     "shell.execute_reply": "2021-04-19T22:39:32.647592Z"
    }
   },
   "outputs": [
    {
     "data": {
      "image/png": "[encoded data removed]",
      "text/plain": [
       "<Figure size 432x288 with 1 Axes>"
      ]
     },
     "metadata": {
      "needs_background": "light"
     },
     "output_type": "display_data"
    }
   ],
   "source": [
    "for diagnosis in training_set.class_indices:\n",
    "    plt.plot(fpr[diagnosis], tpr[diagnosis], label=diagnosis)\n",
    "    \n",
    "plt.plot([0, 1], [0, 1], 'k--')\n",
    "plt.xlabel('False Positive Rate')\n",
    "plt.ylabel('True Positive Rate')\n",
    "plt.title('Receiver operating characteristic')\n",
    "plt.legend(loc=\"lower right\")\n",
    "plt.show()"
   ]
  },
  {
   "cell_type": "markdown",
   "metadata": {},
   "source": [
    "Metryki AUC do każdej diagnozy."
   ]
  },
  {
   "cell_type": "code",
   "execution_count": 15,
   "metadata": {
    "execution": {
     "iopub.execute_input": "2021-04-19T22:39:32.656876Z",
     "iopub.status.busy": "2021-04-19T22:39:32.656296Z",
     "iopub.status.idle": "2021-04-19T22:39:32.662572Z",
     "shell.execute_reply": "2021-04-19T22:39:32.661408Z"
    }
   },
   "outputs": [
    {
     "data": {
      "text/plain": [
       "{'actinic keratosis': 0.8980098420949234,\n",
       " 'basal cell carcinoma': 0.9154926043678159,\n",
       " 'dermatofibroma': 0.9190417182982239,\n",
       " 'melanoma': 0.84849270112613,\n",
       " 'nevus': 0.9113886950284,\n",
       " 'pigmented benign keratosis': 0.9354753114905399,\n",
       " 'seborrheic keratosis': 0.8501250713401892,\n",
       " 'solar lentigo': 0.9109810333041352,\n",
       " 'squamous cell carcinoma': 0.8947976583669162,\n",
       " 'vascular lesion': 0.8942861540704975}"
      ]
     },
     "execution_count": 1,
     "metadata": {},
     "output_type": "execute_result"
    }
   ],
   "source": [
    "auc_metric"
   ]
  },
  {
   "cell_type": "code",
   "execution_count": null,
   "metadata": {},
   "outputs": [],
   "source": []
  }
 ],
 "metadata": {
  "kernelspec": {
   "display_name": "Python 3",
   "language": "python",
   "name": "python3"
  },
  "language_info": {
   "codemirror_mode": {
    "name": "ipython",
    "version": 3
   },
   "file_extension": ".py",
   "mimetype": "text/x-python",
   "name": "python",
   "nbconvert_exporter": "python",
   "pygments_lexer": "ipython3",
   "version": "3.6.9"
  }
 },
 "nbformat": 4,
 "nbformat_minor": 2
}
