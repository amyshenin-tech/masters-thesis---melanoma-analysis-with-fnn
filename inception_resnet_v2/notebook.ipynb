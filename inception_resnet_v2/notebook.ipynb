{
 "cells": [
  {
   "cell_type": "markdown",
   "metadata": {},
   "source": [
    "# Wstępnie trenowana konwolucyjna sieć neuronowa (ang. Pre-trained convolutional neural network) Inception ResNet V2 w analizie czerniaka"
   ]
  },
  {
   "cell_type": "markdown",
   "metadata": {},
   "source": [
    "## Tworzymy model"
   ]
  },
  {
   "cell_type": "code",
   "execution_count": 1,
   "metadata": {},
   "outputs": [
    {
     "name": "stderr",
     "output_type": "stream",
     "text": [
      "Matplotlib created a temporary config/cache directory at /tmp/matplotlib-p7ke4bim because the default path (/.config/matplotlib) is not a writable directory; it is highly recommended to set the MPLCONFIGDIR environment variable to a writable directory, in particular to speed up the import of Matplotlib and to better support multiprocessing.\n"
     ]
    },
    {
     "name": "stdout",
     "output_type": "stream",
     "text": [
      "INFO:tensorflow:Enabling eager execution\n",
      "INFO:tensorflow:Enabling v2 tensorshape\n",
      "INFO:tensorflow:Enabling resource variables\n",
      "INFO:tensorflow:Enabling tensor equality\n",
      "INFO:tensorflow:Enabling control flow v2\n"
     ]
    }
   ],
   "source": [
    "import os\n",
    "import datetime\n",
    "\n",
    "import numpy as np\n",
    "import matplotlib.pyplot as plt\n",
    "from sklearn.metrics import roc_curve, auc\n",
    "\n",
    "import tensorflow_hub as hub\n",
    "from tensorflow.keras.layers import Dense\n",
    "from tensorflow.keras.models import Sequential\n",
    "from tensorflow.keras.preprocessing.image import ImageDataGenerator\n",
    "from tensorflow.keras.callbacks import TensorBoard, ModelCheckpoint, EarlyStopping"
   ]
  },
  {
   "cell_type": "markdown",
   "metadata": {},
   "source": [
    "Ładujemy dane do trenowania i walidacji."
   ]
  },
  {
   "cell_type": "code",
   "execution_count": 2,
   "metadata": {},
   "outputs": [
    {
     "name": "stdout",
     "output_type": "stream",
     "text": [
      "Found 3202 images belonging to 7 classes.\n",
      "Found 797 images belonging to 7 classes.\n"
     ]
    }
   ],
   "source": [
    "datagen = ImageDataGenerator(rescale=1. / 255, validation_split=0.2)\n",
    "training_set = datagen.flow_from_directory('/isic-train',\n",
    "                                           target_size=(299, 299),\n",
    "                                           batch_size=32,\n",
    "                                           class_mode='categorical',\n",
    "                                           subset='training')\n",
    "validation_set = datagen.flow_from_directory('/isic-train',\n",
    "                                           target_size=(299, 299),\n",
    "                                           batch_size=32,\n",
    "                                           class_mode='categorical',\n",
    "                                           subset='validation')"
   ]
  },
  {
   "cell_type": "markdown",
   "metadata": {},
   "source": [
    "Zapisujemy ilość diagnoz do zmiennej."
   ]
  },
  {
   "cell_type": "code",
   "execution_count": 3,
   "metadata": {},
   "outputs": [],
   "source": [
    "DIAGNOSIS_NUMBER = len(training_set.class_indices)"
   ]
  },
  {
   "cell_type": "markdown",
   "metadata": {},
   "source": [
    "Budujemy model - sieć konwolucyjną z 3 warstwami konwolucyjnymi (ang. convolutional layer) i 2 warstwami gęstymi (ang. dense layer)."
   ]
  },
  {
   "cell_type": "code",
   "execution_count": 4,
   "metadata": {},
   "outputs": [],
   "source": [
    "model = Sequential([\n",
    "    hub.KerasLayer(\"https://tfhub.dev/google/imagenet/inception_resnet_v2/feature_vector/4\",\n",
    "                   trainable=False),\n",
    "    Dense(DIAGNOSIS_NUMBER, activation='softmax')\n",
    "])\n",
    "model.build([None, 299, 299, 3])"
   ]
  },
  {
   "cell_type": "code",
   "execution_count": 5,
   "metadata": {},
   "outputs": [],
   "source": [
    "model.compile(optimizer='adam', loss='categorical_crossentropy', metrics=['accuracy'])"
   ]
  },
  {
   "cell_type": "markdown",
   "metadata": {},
   "source": [
    "Dodajemy funkcjonalność zbierania danych o wydajności modelu do Tensorboard."
   ]
  },
  {
   "cell_type": "code",
   "execution_count": 6,
   "metadata": {},
   "outputs": [],
   "source": [
    "log_dir = '../logs/fit/' + datetime.datetime.now().strftime('inception_resnet_v2')\n",
    "tensorboard_callback = TensorBoard(log_dir=log_dir, histogram_freq=1)"
   ]
  },
  {
   "cell_type": "markdown",
   "metadata": {},
   "source": [
    "Dodajemy funkcjonalność zapisywania modelu w trakcie jego trenowania. Zwóćmy uwagę, że zapisywany jest tylko jeden model i lepszy nadpisuje gorszy."
   ]
  },
  {
   "cell_type": "code",
   "execution_count": 7,
   "metadata": {},
   "outputs": [],
   "source": [
    "checkpoint_path = 'checkpoints/inception_resnet_v2.ckpt'\n",
    "checkpoint_dir = os.path.dirname(checkpoint_path)\n",
    "\n",
    "checkpoint_callback = ModelCheckpoint(\n",
    "    checkpoint_path,\n",
    "    monitor='val_loss',\n",
    "    verbose=1,\n",
    "    save_best_only=True,\n",
    "    save_weights_only=False,\n",
    "    save_freq='epoch',\n",
    "    mode='auto')"
   ]
  },
  {
   "cell_type": "markdown",
   "metadata": {},
   "source": [
    "Dodajemy funkcjonalność zatrzymania trenowania modelu, jeśli nie będzie poprawy w ciągu 10 epoch."
   ]
  },
  {
   "cell_type": "code",
   "execution_count": 8,
   "metadata": {},
   "outputs": [],
   "source": [
    "early_stop_callback = EarlyStopping(monitor=\"val_loss\", min_delta=0.01, patience=10, restore_best_weights=True)"
   ]
  },
  {
   "cell_type": "markdown",
   "metadata": {},
   "source": [
    "Trenujemy model."
   ]
  },
  {
   "cell_type": "code",
   "execution_count": 9,
   "metadata": {},
   "outputs": [
    {
     "name": "stdout",
     "output_type": "stream",
     "text": [
      "Epoch 1/200\n",
      "101/101 [==============================] - 397s 4s/step - loss: 0.2851 - accuracy: 0.9069 - val_loss: 0.6501 - val_accuracy: 0.6838\n",
      "\n",
      "Epoch 00001: val_loss improved from inf to 0.65007, saving model to checkpoints/inception_resnet_v2.ckpt\n",
      "INFO:tensorflow:Assets written to: checkpoints/inception_resnet_v2.ckpt/assets\n"
     ]
    },
    {
     "name": "stderr",
     "output_type": "stream",
     "text": [
      "INFO:tensorflow:Assets written to: checkpoints/inception_resnet_v2.ckpt/assets\n"
     ]
    },
    {
     "name": "stdout",
     "output_type": "stream",
     "text": [
      "Epoch 2/200\n",
      "101/101 [==============================] - 374s 4s/step - loss: 0.0548 - accuracy: 0.9921 - val_loss: 1.1714 - val_accuracy: 0.6324\n",
      "\n",
      "Epoch 00002: val_loss did not improve from 0.65007\n",
      "Epoch 3/200\n",
      "101/101 [==============================] - 374s 4s/step - loss: 0.0264 - accuracy: 0.9962 - val_loss: 1.2227 - val_accuracy: 0.6361\n",
      "\n",
      "Epoch 00003: val_loss did not improve from 0.65007\n",
      "Epoch 4/200\n",
      "101/101 [==============================] - 374s 4s/step - loss: 0.0173 - accuracy: 0.9971 - val_loss: 1.3513 - val_accuracy: 0.6336\n",
      "\n",
      "Epoch 00004: val_loss did not improve from 0.65007\n",
      "Epoch 5/200\n",
      "101/101 [==============================] - 374s 4s/step - loss: 0.0194 - accuracy: 0.9946 - val_loss: 1.7264 - val_accuracy: 0.6136\n",
      "\n",
      "Epoch 00005: val_loss did not improve from 0.65007\n",
      "Epoch 6/200\n",
      "101/101 [==============================] - 375s 4s/step - loss: 0.0118 - accuracy: 0.9969 - val_loss: 1.8414 - val_accuracy: 0.6161\n",
      "\n",
      "Epoch 00006: val_loss did not improve from 0.65007\n",
      "Epoch 7/200\n",
      "101/101 [==============================] - 375s 4s/step - loss: 0.0091 - accuracy: 0.9980 - val_loss: 1.7871 - val_accuracy: 0.6274\n",
      "\n",
      "Epoch 00007: val_loss did not improve from 0.65007\n",
      "Epoch 8/200\n",
      "101/101 [==============================] - 375s 4s/step - loss: 0.0072 - accuracy: 0.9988 - val_loss: 1.6363 - val_accuracy: 0.6336\n",
      "\n",
      "Epoch 00008: val_loss did not improve from 0.65007\n",
      "Epoch 9/200\n",
      "101/101 [==============================] - 374s 4s/step - loss: 0.0064 - accuracy: 0.9983 - val_loss: 1.5412 - val_accuracy: 0.6399\n",
      "\n",
      "Epoch 00009: val_loss did not improve from 0.65007\n",
      "Epoch 10/200\n",
      "101/101 [==============================] - 375s 4s/step - loss: 0.0054 - accuracy: 0.9992 - val_loss: 1.9470 - val_accuracy: 0.6286\n",
      "\n",
      "Epoch 00010: val_loss did not improve from 0.65007\n",
      "Epoch 11/200\n",
      "101/101 [==============================] - 375s 4s/step - loss: 0.0054 - accuracy: 0.9996 - val_loss: 2.1574 - val_accuracy: 0.6173\n",
      "\n",
      "Epoch 00011: val_loss did not improve from 0.65007\n"
     ]
    },
    {
     "data": {
      "text/plain": [
       "<tensorflow.python.keras.callbacks.History at 0x7f92d80e2be0>"
      ]
     },
     "execution_count": 9,
     "metadata": {},
     "output_type": "execute_result"
    }
   ],
   "source": [
    "model.fit(training_set, validation_data=validation_set, epochs=200, callbacks=[tensorboard_callback,\n",
    "                                                                               checkpoint_callback,\n",
    "                                                                               early_stop_callback])"
   ]
  },
  {
   "cell_type": "markdown",
   "metadata": {},
   "source": [
    "## Szacujemy dokładność modelu"
   ]
  },
  {
   "cell_type": "markdown",
   "metadata": {},
   "source": [
    "Ładujemy dane do testowania."
   ]
  },
  {
   "cell_type": "code",
   "execution_count": 10,
   "metadata": {},
   "outputs": [
    {
     "name": "stdout",
     "output_type": "stream",
     "text": [
      "Found 999 images belonging to 7 classes.\n"
     ]
    }
   ],
   "source": [
    "datagen = ImageDataGenerator(rescale=1. / 255)\n",
    "testing_set = datagen.flow_from_directory('/isic-test',\n",
    "                                           target_size=(299, 299),\n",
    "                                           batch_size=32,\n",
    "                                           class_mode='categorical')"
   ]
  },
  {
   "cell_type": "markdown",
   "metadata": {},
   "source": [
    "Pobieramy diagnozy z danych testowych."
   ]
  },
  {
   "cell_type": "code",
   "execution_count": 11,
   "metadata": {},
   "outputs": [],
   "source": [
    "true_labels = np.concatenate([testing_set[i][1] for i in range(len(testing_set))], axis=0)"
   ]
  },
  {
   "cell_type": "markdown",
   "metadata": {},
   "source": [
    "Prognozujemy diagnozy dla każdego obrazu."
   ]
  },
  {
   "cell_type": "code",
   "execution_count": 12,
   "metadata": {},
   "outputs": [],
   "source": [
    "predicted_labels = model.predict(testing_set)"
   ]
  },
  {
   "cell_type": "markdown",
   "metadata": {},
   "source": [
    "Obliczamy punkty wykresu ROC (Receiver operating characteristic) i metrykę AUC (Area under the curve)."
   ]
  },
  {
   "cell_type": "code",
   "execution_count": 13,
   "metadata": {},
   "outputs": [
    {
     "name": "stderr",
     "output_type": "stream",
     "text": [
      "/usr/local/lib/python3.6/dist-packages/sklearn/metrics/_ranking.py:951: UndefinedMetricWarning: No positive samples in y_true, true positive value should be meaningless\n",
      "  UndefinedMetricWarning)\n",
      "/usr/local/lib/python3.6/dist-packages/sklearn/metrics/_ranking.py:951: UndefinedMetricWarning: No positive samples in y_true, true positive value should be meaningless\n",
      "  UndefinedMetricWarning)\n",
      "/usr/local/lib/python3.6/dist-packages/sklearn/metrics/_ranking.py:951: UndefinedMetricWarning: No positive samples in y_true, true positive value should be meaningless\n",
      "  UndefinedMetricWarning)\n"
     ]
    }
   ],
   "source": [
    "fpr = dict()\n",
    "tpr = dict()\n",
    "auc_metric = dict()\n",
    "\n",
    "diagnosis_index_dict = {v: k for k, v in training_set.class_indices.items()}\n",
    "\n",
    "for i in range(DIAGNOSIS_NUMBER):\n",
    "    diagnosis = diagnosis_index_dict[i]\n",
    "    fpr[diagnosis], tpr[diagnosis], _ = roc_curve(true_labels[:, i], predicted_labels[:, i])\n",
    "    auc_metric[diagnosis] = auc(fpr[diagnosis], tpr[diagnosis])"
   ]
  },
  {
   "cell_type": "markdown",
   "metadata": {},
   "source": [
    "Rysujemy wykres ROC (Receiver operating characteristic)."
   ]
  },
  {
   "cell_type": "code",
   "execution_count": 14,
   "metadata": {},
   "outputs": [
    {
     "data": {
      "image/png": "[encoded data removed]",
      "text/plain": [
       "<Figure size 432x288 with 1 Axes>"
      ]
     },
     "metadata": {
      "needs_background": "light"
     },
     "output_type": "display_data"
    }
   ],
   "source": [
    "for diagnosis in training_set.class_indices:\n",
    "    plt.plot(fpr[diagnosis], tpr[diagnosis], label=diagnosis)\n",
    "    \n",
    "plt.plot([0, 1], [0, 1], 'k--')\n",
    "plt.xlabel('False Positive Rate')\n",
    "plt.ylabel('True Positive Rate')\n",
    "plt.title('Receiver operating characteristic')\n",
    "plt.legend(loc=\"lower right\")\n",
    "plt.show()"
   ]
  },
  {
   "cell_type": "markdown",
   "metadata": {},
   "source": [
    "Metryki AUC do każdej diagnozy."
   ]
  },
  {
   "cell_type": "code",
   "execution_count": 15,
   "metadata": {},
   "outputs": [
    {
     "data": {
      "text/plain": [
       "{'angioma': nan,\n",
       " 'basal cell carcinoma': 0.5440881763527055,\n",
       " 'dermatofibroma': nan,\n",
       " 'lichenoid keratosis': nan,\n",
       " 'melanoma': 0.9678151709401709,\n",
       " 'nevus': 0.9679973522073425,\n",
       " 'seborrheic keratosis': 0.8617234468937875}"
      ]
     },
     "execution_count": 15,
     "metadata": {},
     "output_type": "execute_result"
    }
   ],
   "source": [
    "auc_metric"
   ]
  },
  {
   "cell_type": "code",
   "execution_count": null,
   "metadata": {},
   "outputs": [],
   "source": []
  }
 ],
 "metadata": {
  "kernelspec": {
   "display_name": "Python 3",
   "language": "python",
   "name": "python3"
  },
  "language_info": {
   "codemirror_mode": {
    "name": "ipython",
    "version": 3
   },
   "file_extension": ".py",
   "mimetype": "text/x-python",
   "name": "python",
   "nbconvert_exporter": "python",
   "pygments_lexer": "ipython3",
   "version": "3.6.9"
  }
 },
 "nbformat": 4,
 "nbformat_minor": 2
}
