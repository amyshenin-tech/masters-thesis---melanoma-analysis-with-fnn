{
 "cells": [
  {
   "cell_type": "markdown",
   "metadata": {},
   "source": [
    "# Wstępnie trenowana konwolucyjna sieć neuronowa (ang. Pre-trained convolutional neural network) MobileNet V2 w analizie czerniaka"
   ]
  },
  {
   "cell_type": "markdown",
   "metadata": {},
   "source": [
    "## Tworzymy model"
   ]
  },
  {
   "cell_type": "code",
   "execution_count": 1,
   "metadata": {
    "execution": {
     "iopub.execute_input": "2021-04-19T06:02:55.774991Z",
     "iopub.status.busy": "2021-04-19T06:02:55.773501Z",
     "iopub.status.idle": "2021-04-19T06:03:01.246322Z",
     "shell.execute_reply": "2021-04-19T06:03:01.245140Z"
    }
   },
   "outputs": [
    {
     "name": "stderr",
     "output_type": "stream",
     "text": [
      "Matplotlib created a temporary config/cache directory at /tmp/matplotlib-_orkkaa_ because the default path (/.config/matplotlib) is not a writable directory; it is highly recommended to set the MPLCONFIGDIR environment variable to a writable directory, in particular to speed up the import of Matplotlib and to better support multiprocessing.\n"
     ]
    },
    {
     "name": "stdout",
     "output_type": "stream",
     "text": [
      "INFO:tensorflow:Enabling eager execution\n",
      "INFO:tensorflow:Enabling v2 tensorshape\n",
      "INFO:tensorflow:Enabling resource variables\n",
      "INFO:tensorflow:Enabling tensor equality\n",
      "INFO:tensorflow:Enabling control flow v2\n"
     ]
    }
   ],
   "source": [
    "import os\n",
    "import datetime\n",
    "\n",
    "import numpy as np\n",
    "import matplotlib.pyplot as plt\n",
    "from sklearn.metrics import roc_curve, auc\n",
    "\n",
    "import tensorflow_hub as hub\n",
    "from tensorflow.keras.layers import Dense\n",
    "from tensorflow.keras.models import Sequential\n",
    "from tensorflow.keras.preprocessing.image import ImageDataGenerator\n",
    "from tensorflow.keras.callbacks import TensorBoard, ModelCheckpoint, EarlyStopping"
   ]
  },
  {
   "cell_type": "markdown",
   "metadata": {},
   "source": [
    "Ładujemy dane do trenowania i walidacji."
   ]
  },
  {
   "cell_type": "code",
   "execution_count": 2,
   "metadata": {
    "execution": {
     "iopub.execute_input": "2021-04-19T06:03:01.254028Z",
     "iopub.status.busy": "2021-04-19T06:03:01.252773Z",
     "iopub.status.idle": "2021-04-19T06:03:02.101320Z",
     "shell.execute_reply": "2021-04-19T06:03:02.100305Z"
    }
   },
   "outputs": [
    {
     "name": "stdout",
     "output_type": "stream",
     "text": [
      "Found 23400 images belonging to 10 classes.\n",
      "Found 5845 images belonging to 10 classes.\n"
     ]
    }
   ],
   "source": [
    "datagen = ImageDataGenerator(rescale=1. / 255, validation_split=0.2)\n",
    "training_set = datagen.flow_from_directory('/isic-train-large',\n",
    "                                           target_size=(224, 224),\n",
    "                                           batch_size=32,\n",
    "                                           class_mode='categorical',\n",
    "                                           subset='training')\n",
    "validation_set = datagen.flow_from_directory('/isic-train-large',\n",
    "                                           target_size=(224, 224),\n",
    "                                           batch_size=32,\n",
    "                                           class_mode='categorical',\n",
    "                                           subset='validation')"
   ]
  },
  {
   "cell_type": "markdown",
   "metadata": {},
   "source": [
    "Zapisujemy ilość diagnoz do zmiennej."
   ]
  },
  {
   "cell_type": "code",
   "execution_count": 3,
   "metadata": {
    "execution": {
     "iopub.execute_input": "2021-04-19T06:03:02.105587Z",
     "iopub.status.busy": "2021-04-19T06:03:02.105036Z",
     "iopub.status.idle": "2021-04-19T06:03:02.107887Z",
     "shell.execute_reply": "2021-04-19T06:03:02.107330Z"
    }
   },
   "outputs": [],
   "source": [
    "DIAGNOSIS_NUMBER = len(training_set.class_indices)"
   ]
  },
  {
   "cell_type": "markdown",
   "metadata": {},
   "source": [
    "Budujemy model - sieć konwolucyjną z 3 warstwami konwolucyjnymi (ang. convolutional layer) i 2 warstwami gęstymi (ang. dense layer)."
   ]
  },
  {
   "cell_type": "code",
   "execution_count": 4,
   "metadata": {
    "execution": {
     "iopub.execute_input": "2021-04-19T06:03:02.114877Z",
     "iopub.status.busy": "2021-04-19T06:03:02.114319Z",
     "iopub.status.idle": "2021-04-19T06:03:07.808276Z",
     "shell.execute_reply": "2021-04-19T06:03:07.807329Z"
    }
   },
   "outputs": [],
   "source": [
    "model = Sequential([\n",
    "    hub.KerasLayer(\"https://tfhub.dev/google/tf2-preview/mobilenet_v2/feature_vector/4\", output_shape=[1280],\n",
    "                   trainable=False),\n",
    "    Dense(DIAGNOSIS_NUMBER, activation='softmax')\n",
    "])\n",
    "model.build([None, 224, 224, 3])"
   ]
  },
  {
   "cell_type": "code",
   "execution_count": 5,
   "metadata": {
    "execution": {
     "iopub.execute_input": "2021-04-19T06:03:07.820609Z",
     "iopub.status.busy": "2021-04-19T06:03:07.819556Z",
     "iopub.status.idle": "2021-04-19T06:03:07.828759Z",
     "shell.execute_reply": "2021-04-19T06:03:07.827645Z"
    }
   },
   "outputs": [],
   "source": [
    "model.compile(optimizer='adam', loss='categorical_crossentropy', metrics=['accuracy'])"
   ]
  },
  {
   "cell_type": "markdown",
   "metadata": {},
   "source": [
    "Dodajemy funkcjonalność zbierania danych o wydajności modelu do Tensorboard."
   ]
  },
  {
   "cell_type": "code",
   "execution_count": 6,
   "metadata": {
    "execution": {
     "iopub.execute_input": "2021-04-19T06:03:07.834336Z",
     "iopub.status.busy": "2021-04-19T06:03:07.833113Z",
     "iopub.status.idle": "2021-04-19T06:03:08.196086Z",
     "shell.execute_reply": "2021-04-19T06:03:08.195070Z"
    }
   },
   "outputs": [],
   "source": [
    "log_dir = '../logs/fit/' + datetime.datetime.now().strftime('mobilenet_v2')\n",
    "tensorboard_callback = TensorBoard(log_dir=log_dir, histogram_freq=1)"
   ]
  },
  {
   "cell_type": "markdown",
   "metadata": {},
   "source": [
    "Dodajemy funkcjonalność zapisywania modelu w trakcie jego trenowania. Zwóćmy uwagę, że zapisywany jest tylko jeden model i lepszy nadpisuje gorszy."
   ]
  },
  {
   "cell_type": "code",
   "execution_count": 7,
   "metadata": {
    "execution": {
     "iopub.execute_input": "2021-04-19T06:03:08.202154Z",
     "iopub.status.busy": "2021-04-19T06:03:08.200845Z",
     "iopub.status.idle": "2021-04-19T06:03:08.203524Z",
     "shell.execute_reply": "2021-04-19T06:03:08.204483Z"
    }
   },
   "outputs": [],
   "source": [
    "checkpoint_path = 'checkpoints/mobilenet_v2.ckpt'\n",
    "checkpoint_dir = os.path.dirname(checkpoint_path)\n",
    "\n",
    "checkpoint_callback = ModelCheckpoint(\n",
    "    checkpoint_path,\n",
    "    monitor='val_loss',\n",
    "    verbose=1,\n",
    "    save_best_only=True,\n",
    "    save_weights_only=False,\n",
    "    save_freq='epoch',\n",
    "    mode='auto')"
   ]
  },
  {
   "cell_type": "markdown",
   "metadata": {},
   "source": [
    "Dodajemy funkcjonalność zatrzymania trenowania modelu, jeśli nie będzie poprawy w ciągu 10 epoch."
   ]
  },
  {
   "cell_type": "code",
   "execution_count": 8,
   "metadata": {
    "execution": {
     "iopub.execute_input": "2021-04-19T06:03:08.208511Z",
     "iopub.status.busy": "2021-04-19T06:03:08.207937Z",
     "iopub.status.idle": "2021-04-19T06:03:08.210963Z",
     "shell.execute_reply": "2021-04-19T06:03:08.211461Z"
    }
   },
   "outputs": [],
   "source": [
    "early_stop_callback = EarlyStopping(monitor=\"val_loss\", min_delta=0.01, patience=10, restore_best_weights=True)"
   ]
  },
  {
   "cell_type": "markdown",
   "metadata": {},
   "source": [
    "Trenujemy model."
   ]
  },
  {
   "cell_type": "code",
   "execution_count": 9,
   "metadata": {
    "execution": {
     "iopub.execute_input": "2021-04-19T06:03:08.218083Z",
     "iopub.status.busy": "2021-04-19T06:03:08.217497Z",
     "iopub.status.idle": "2021-04-19T12:13:28.286074Z",
     "shell.execute_reply": "2021-04-19T12:13:28.294300Z"
    }
   },
   "outputs": [
    {
     "name": "stdout",
     "output_type": "stream",
     "text": [
      "Epoch 1/200\n",
      "732/732 [==============================] - 1733s 2s/step - loss: 1.0142 - accuracy: 0.6853 - val_loss: 1.0283 - val_accuracy: 0.6907\n",
      "\n",
      "Epoch 00001: val_loss improved from inf to 1.02830, saving model to checkpoints/mobilenet_v2.ckpt\n",
      "INFO:tensorflow:Assets written to: checkpoints/mobilenet_v2.ckpt/assets\n"
     ]
    },
    {
     "name": "stderr",
     "output_type": "stream",
     "text": [
      "INFO:tensorflow:Assets written to: checkpoints/mobilenet_v2.ckpt/assets\n"
     ]
    },
    {
     "name": "stdout",
     "output_type": "stream",
     "text": [
      "Epoch 2/200\n",
      "732/732 [==============================] - 1713s 2s/step - loss: 0.7161 - accuracy: 0.7565 - val_loss: 1.0256 - val_accuracy: 0.6977\n",
      "\n",
      "Epoch 00002: val_loss improved from 1.02830 to 1.02558, saving model to checkpoints/mobilenet_v2.ckpt\n",
      "INFO:tensorflow:Assets written to: checkpoints/mobilenet_v2.ckpt/assets\n"
     ]
    },
    {
     "name": "stderr",
     "output_type": "stream",
     "text": [
      "INFO:tensorflow:Assets written to: checkpoints/mobilenet_v2.ckpt/assets\n"
     ]
    },
    {
     "name": "stdout",
     "output_type": "stream",
     "text": [
      "Epoch 3/200\n",
      "732/732 [==============================] - 1707s 2s/step - loss: 0.6573 - accuracy: 0.7702 - val_loss: 1.0170 - val_accuracy: 0.7045\n",
      "\n",
      "Epoch 00003: val_loss improved from 1.02558 to 1.01696, saving model to checkpoints/mobilenet_v2.ckpt\n",
      "INFO:tensorflow:Assets written to: checkpoints/mobilenet_v2.ckpt/assets\n"
     ]
    },
    {
     "name": "stderr",
     "output_type": "stream",
     "text": [
      "INFO:tensorflow:Assets written to: checkpoints/mobilenet_v2.ckpt/assets\n"
     ]
    },
    {
     "name": "stdout",
     "output_type": "stream",
     "text": [
      "Epoch 4/200\n",
      "732/732 [==============================] - 1708s 2s/step - loss: 0.6282 - accuracy: 0.7792 - val_loss: 1.0890 - val_accuracy: 0.6917\n",
      "\n",
      "Epoch 00004: val_loss did not improve from 1.01696\n",
      "Epoch 5/200\n",
      "732/732 [==============================] - 1704s 2s/step - loss: 0.5900 - accuracy: 0.7899 - val_loss: 1.0748 - val_accuracy: 0.7049\n",
      "\n",
      "Epoch 00005: val_loss did not improve from 1.01696\n",
      "Epoch 6/200\n",
      "732/732 [==============================] - 1706s 2s/step - loss: 0.5749 - accuracy: 0.7936 - val_loss: 1.0326 - val_accuracy: 0.7078\n",
      "\n",
      "Epoch 00006: val_loss did not improve from 1.01696\n",
      "Epoch 7/200\n",
      "732/732 [==============================] - 1704s 2s/step - loss: 0.5572 - accuracy: 0.8040 - val_loss: 1.0244 - val_accuracy: 0.7105\n",
      "\n",
      "Epoch 00007: val_loss did not improve from 1.01696\n",
      "Epoch 8/200\n",
      "732/732 [==============================] - 1706s 2s/step - loss: 0.5422 - accuracy: 0.8076 - val_loss: 1.0948 - val_accuracy: 0.7069\n",
      "\n",
      "Epoch 00008: val_loss did not improve from 1.01696\n",
      "Epoch 9/200\n",
      "732/732 [==============================] - 1707s 2s/step - loss: 0.5409 - accuracy: 0.8107 - val_loss: 1.0072 - val_accuracy: 0.7153\n",
      "\n",
      "Epoch 00009: val_loss improved from 1.01696 to 1.00718, saving model to checkpoints/mobilenet_v2.ckpt\n",
      "INFO:tensorflow:Assets written to: checkpoints/mobilenet_v2.ckpt/assets\n"
     ]
    },
    {
     "name": "stderr",
     "output_type": "stream",
     "text": [
      "INFO:tensorflow:Assets written to: checkpoints/mobilenet_v2.ckpt/assets\n"
     ]
    },
    {
     "name": "stdout",
     "output_type": "stream",
     "text": [
      "Epoch 10/200\n",
      "732/732 [==============================] - 1703s 2s/step - loss: 0.5176 - accuracy: 0.8155 - val_loss: 1.0704 - val_accuracy: 0.7100\n",
      "\n",
      "Epoch 00010: val_loss did not improve from 1.00718\n",
      "Epoch 11/200\n",
      "732/732 [==============================] - 1706s 2s/step - loss: 0.5100 - accuracy: 0.8191 - val_loss: 1.1313 - val_accuracy: 0.7069\n",
      "\n",
      "Epoch 00011: val_loss did not improve from 1.00718\n",
      "Epoch 12/200\n",
      "732/732 [==============================] - 1701s 2s/step - loss: 0.5094 - accuracy: 0.8172 - val_loss: 1.2070 - val_accuracy: 0.6958\n",
      "\n",
      "Epoch 00012: val_loss did not improve from 1.00718\n",
      "Epoch 13/200\n",
      "732/732 [==============================] - 1701s 2s/step - loss: 0.5023 - accuracy: 0.8217 - val_loss: 1.0950 - val_accuracy: 0.7095\n",
      "\n",
      "Epoch 00013: val_loss did not improve from 1.00718\n"
     ]
    },
    {
     "data": {
      "text/plain": [
       "<tensorflow.python.keras.callbacks.History at 0x7fa4a843b438>"
      ]
     },
     "execution_count": 1,
     "metadata": {},
     "output_type": "execute_result"
    }
   ],
   "source": [
    "model.fit(training_set, validation_data=validation_set, epochs=200, callbacks=[tensorboard_callback,\n",
    "                                                                               checkpoint_callback,\n",
    "                                                                               early_stop_callback])"
   ]
  },
  {
   "cell_type": "markdown",
   "metadata": {},
   "source": [
    "## Szacujemy dokładność modelu"
   ]
  },
  {
   "cell_type": "markdown",
   "metadata": {},
   "source": [
    "Ładujemy dane do testowania."
   ]
  },
  {
   "cell_type": "code",
   "execution_count": 10,
   "metadata": {
    "execution": {
     "iopub.execute_input": "2021-04-19T12:13:28.320883Z",
     "iopub.status.busy": "2021-04-19T12:13:28.319662Z",
     "iopub.status.idle": "2021-04-19T12:13:28.545725Z",
     "shell.execute_reply": "2021-04-19T12:13:28.545230Z"
    }
   },
   "outputs": [
    {
     "name": "stdout",
     "output_type": "stream",
     "text": [
      "Found 7312 images belonging to 10 classes.\n"
     ]
    }
   ],
   "source": [
    "datagen = ImageDataGenerator(rescale=1. / 255)\n",
    "testing_set = datagen.flow_from_directory('/isic-test-large',\n",
    "                                           target_size=(224, 224),\n",
    "                                           batch_size=32,\n",
    "                                           class_mode='categorical')"
   ]
  },
  {
   "cell_type": "markdown",
   "metadata": {},
   "source": [
    "Pobieramy diagnozy z danych testowych."
   ]
  },
  {
   "cell_type": "code",
   "execution_count": 11,
   "metadata": {
    "execution": {
     "iopub.execute_input": "2021-04-19T12:13:28.557344Z",
     "iopub.status.busy": "2021-04-19T12:13:28.555932Z",
     "iopub.status.idle": "2021-04-19T12:20:22.018775Z",
     "shell.execute_reply": "2021-04-19T12:20:22.017619Z"
    }
   },
   "outputs": [],
   "source": [
    "true_labels = np.concatenate([testing_set[i][1] for i in range(len(testing_set))], axis=0)"
   ]
  },
  {
   "cell_type": "markdown",
   "metadata": {},
   "source": [
    "Prognozujemy diagnozy dla każdego obrazu."
   ]
  },
  {
   "cell_type": "code",
   "execution_count": 12,
   "metadata": {
    "execution": {
     "iopub.execute_input": "2021-04-19T12:20:22.027288Z",
     "iopub.status.busy": "2021-04-19T12:20:22.026032Z",
     "iopub.status.idle": "2021-04-19T12:26:40.430941Z",
     "shell.execute_reply": "2021-04-19T12:26:40.429979Z"
    }
   },
   "outputs": [],
   "source": [
    "predicted_labels = model.predict(testing_set)"
   ]
  },
  {
   "cell_type": "markdown",
   "metadata": {},
   "source": [
    "Obliczamy punkty wykresu ROC (Receiver operating characteristic) i metrykę AUC (Area under the curve)."
   ]
  },
  {
   "cell_type": "code",
   "execution_count": 13,
   "metadata": {
    "execution": {
     "iopub.execute_input": "2021-04-19T12:26:40.446767Z",
     "iopub.status.busy": "2021-04-19T12:26:40.443947Z",
     "iopub.status.idle": "2021-04-19T12:26:40.478293Z",
     "shell.execute_reply": "2021-04-19T12:26:40.478689Z"
    }
   },
   "outputs": [],
   "source": [
    "fpr = dict()\n",
    "tpr = dict()\n",
    "auc_metric = dict()\n",
    "\n",
    "diagnosis_index_dict = {v: k for k, v in training_set.class_indices.items()}\n",
    "\n",
    "for i in range(DIAGNOSIS_NUMBER):\n",
    "    diagnosis = diagnosis_index_dict[i]\n",
    "    fpr[diagnosis], tpr[diagnosis], _ = roc_curve(true_labels[:, i], predicted_labels[:, i])\n",
    "    auc_metric[diagnosis] = auc(fpr[diagnosis], tpr[diagnosis])"
   ]
  },
  {
   "cell_type": "markdown",
   "metadata": {},
   "source": [
    "Rysujemy wykres ROC (Receiver operating characteristic)."
   ]
  },
  {
   "cell_type": "code",
   "execution_count": 14,
   "metadata": {
    "execution": {
     "iopub.execute_input": "2021-04-19T12:26:40.520062Z",
     "iopub.status.busy": "2021-04-19T12:26:40.518880Z",
     "iopub.status.idle": "2021-04-19T12:26:40.766870Z",
     "shell.execute_reply": "2021-04-19T12:26:40.766472Z"
    }
   },
   "outputs": [
    {
     "data": {
      "image/png": "[encoded data removed]",
      "text/plain": [
       "<Figure size 432x288 with 1 Axes>"
      ]
     },
     "metadata": {
      "needs_background": "light"
     },
     "output_type": "display_data"
    }
   ],
   "source": [
    "for diagnosis in training_set.class_indices:\n",
    "    plt.plot(fpr[diagnosis], tpr[diagnosis], label=diagnosis)\n",
    "    \n",
    "plt.plot([0, 1], [0, 1], 'k--')\n",
    "plt.xlabel('False Positive Rate')\n",
    "plt.ylabel('True Positive Rate')\n",
    "plt.title('Receiver operating characteristic')\n",
    "plt.legend(loc=\"lower right\")\n",
    "plt.show()"
   ]
  },
  {
   "cell_type": "markdown",
   "metadata": {},
   "source": [
    "Metryki AUC do każdej diagnozy."
   ]
  },
  {
   "cell_type": "code",
   "execution_count": 15,
   "metadata": {
    "execution": {
     "iopub.execute_input": "2021-04-19T12:26:40.778408Z",
     "iopub.status.busy": "2021-04-19T12:26:40.777191Z",
     "iopub.status.idle": "2021-04-19T12:26:40.781378Z",
     "shell.execute_reply": "2021-04-19T12:26:40.782402Z"
    }
   },
   "outputs": [
    {
     "data": {
      "text/plain": [
       "{'actinic keratosis': 0.9280626918258439,\n",
       " 'basal cell carcinoma': 0.9306990730286622,\n",
       " 'dermatofibroma': 0.9387727003234172,\n",
       " 'melanoma': 0.8626377788868036,\n",
       " 'nevus': 0.9279216215854957,\n",
       " 'pigmented benign keratosis': 0.9435606060606061,\n",
       " 'seborrheic keratosis': 0.8664695083252495,\n",
       " 'solar lentigo': 0.9256355805545231,\n",
       " 'squamous cell carcinoma': 0.9159954545019672,\n",
       " 'vascular lesion': 0.9811266746059394}"
      ]
     },
     "execution_count": 1,
     "metadata": {},
     "output_type": "execute_result"
    }
   ],
   "source": [
    "auc_metric"
   ]
  },
  {
   "cell_type": "code",
   "execution_count": null,
   "metadata": {},
   "outputs": [],
   "source": []
  }
 ],
 "metadata": {
  "kernelspec": {
   "display_name": "Python 3",
   "language": "python",
   "name": "python3"
  },
  "language_info": {
   "codemirror_mode": {
    "name": "ipython",
    "version": 3
   },
   "file_extension": ".py",
   "mimetype": "text/x-python",
   "name": "python",
   "nbconvert_exporter": "python",
   "pygments_lexer": "ipython3",
   "version": "3.6.9"
  }
 },
 "nbformat": 4,
 "nbformat_minor": 2
}
