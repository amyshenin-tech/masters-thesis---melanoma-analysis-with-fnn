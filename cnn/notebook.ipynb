{
 "cells": [
  {
   "cell_type": "markdown",
   "metadata": {},
   "source": [
    "# Konwolucyjna sieć neuronowa (ang. Convolutional neural network) o prostej architekturze w analizie czerniaka"
   ]
  },
  {
   "cell_type": "markdown",
   "metadata": {},
   "source": [
    "## Tworzymy model"
   ]
  },
  {
   "cell_type": "code",
   "execution_count": 1,
   "metadata": {
    "execution": {
     "iopub.execute_input": "2021-04-18T14:23:37.395646Z",
     "iopub.status.busy": "2021-04-18T14:23:37.394159Z",
     "iopub.status.idle": "2021-04-18T14:23:39.961619Z",
     "shell.execute_reply": "2021-04-18T14:23:39.962600Z"
    }
   },
   "outputs": [
    {
     "name": "stderr",
     "output_type": "stream",
     "text": [
      "Matplotlib created a temporary config/cache directory at /tmp/matplotlib-i0zef8sk because the default path (/.config/matplotlib) is not a writable directory; it is highly recommended to set the MPLCONFIGDIR environment variable to a writable directory, in particular to speed up the import of Matplotlib and to better support multiprocessing.\n"
     ]
    },
    {
     "name": "stdout",
     "output_type": "stream",
     "text": [
      "INFO:tensorflow:Enabling eager execution\n",
      "INFO:tensorflow:Enabling v2 tensorshape\n",
      "INFO:tensorflow:Enabling resource variables\n",
      "INFO:tensorflow:Enabling tensor equality\n",
      "INFO:tensorflow:Enabling control flow v2\n"
     ]
    }
   ],
   "source": [
    "import os\n",
    "import datetime\n",
    "\n",
    "import numpy as np\n",
    "import matplotlib.pyplot as plt\n",
    "from sklearn.metrics import roc_curve, auc\n",
    "\n",
    "from tensorflow.keras.models import Sequential\n",
    "from tensorflow.keras.preprocessing.image import ImageDataGenerator\n",
    "from tensorflow.keras.layers import Conv2D, MaxPool2D, Dense, Flatten, Dropout, BatchNormalization\n",
    "from tensorflow.keras.callbacks import TensorBoard, ModelCheckpoint, EarlyStopping"
   ]
  },
  {
   "cell_type": "markdown",
   "metadata": {},
   "source": [
    "Ładujemy dane do trenowania i walidacji."
   ]
  },
  {
   "cell_type": "code",
   "execution_count": 2,
   "metadata": {
    "execution": {
     "iopub.execute_input": "2021-04-18T14:23:39.972458Z",
     "iopub.status.busy": "2021-04-18T14:23:39.971311Z",
     "iopub.status.idle": "2021-04-18T14:23:40.758858Z",
     "shell.execute_reply": "2021-04-18T14:23:40.759691Z"
    }
   },
   "outputs": [
    {
     "name": "stdout",
     "output_type": "stream",
     "text": [
      "Found 23400 images belonging to 10 classes.\n",
      "Found 5845 images belonging to 10 classes.\n"
     ]
    }
   ],
   "source": [
    "datagen = ImageDataGenerator(rescale=1. / 255, \n",
    "                             validation_split=0.2,\n",
    "                             rotation_range=180,\n",
    "                             horizontal_flip=True,\n",
    "                             vertical_flip=True,\n",
    "                             brightness_range=(0.2,1.5))\n",
    "training_set = datagen.flow_from_directory('/isic-train-large',\n",
    "                                           target_size=(128, 128),\n",
    "                                           batch_size=32,\n",
    "                                           class_mode='categorical',\n",
    "                                           subset='training')\n",
    "validation_set = datagen.flow_from_directory('/isic-train-large',\n",
    "                                           target_size=(128, 128),\n",
    "                                           batch_size=32,\n",
    "                                           class_mode='categorical',\n",
    "                                           subset='validation')"
   ]
  },
  {
   "cell_type": "markdown",
   "metadata": {},
   "source": [
    "Zapisujemy ilość diagnoz do zmiennej."
   ]
  },
  {
   "cell_type": "code",
   "execution_count": 3,
   "metadata": {
    "execution": {
     "iopub.execute_input": "2021-04-18T14:23:40.763185Z",
     "iopub.status.busy": "2021-04-18T14:23:40.762600Z",
     "iopub.status.idle": "2021-04-18T14:23:40.765241Z",
     "shell.execute_reply": "2021-04-18T14:23:40.764686Z"
    }
   },
   "outputs": [],
   "source": [
    "DIAGNOSIS_NUMBER = len(training_set.class_indices)"
   ]
  },
  {
   "cell_type": "markdown",
   "metadata": {},
   "source": [
    "Budujemy model - sieć konwolucyjną z 3 warstwami konwolucyjnymi (ang. convolutional layer) i 2 warstwami gęstymi (ang. dense layer)."
   ]
  },
  {
   "cell_type": "code",
   "execution_count": 4,
   "metadata": {
    "execution": {
     "iopub.execute_input": "2021-04-18T14:23:40.772514Z",
     "iopub.status.busy": "2021-04-18T14:23:40.771947Z",
     "iopub.status.idle": "2021-04-18T14:23:42.520942Z",
     "shell.execute_reply": "2021-04-18T14:23:42.519954Z"
    }
   },
   "outputs": [],
   "source": [
    "model = Sequential([\n",
    "    # pierwsza warstwa konwolucyjna\n",
    "    Conv2D(filters=64, \n",
    "           kernel_size=3, \n",
    "           activation='relu', \n",
    "           input_shape=(128, 128, 3)),\n",
    "    MaxPool2D(pool_size=2, strides=2),\n",
    "\n",
    "    # druga warstwa konwolucyjna\n",
    "    Conv2D(filters=64, kernel_size=3, activation='relu'),\n",
    "    MaxPool2D(pool_size=2, strides=2),\n",
    "\n",
    "    # trzecia warstwa konwolucyjna\n",
    "    Conv2D(filters=64, kernel_size=3, activation='relu'),\n",
    "    MaxPool2D(pool_size=2, strides=2),\n",
    "    \n",
    "    \n",
    "    BatchNormalization(),\n",
    "    \n",
    "    # trasformacja macierzy do tablicy (2D -> 1D)\n",
    "    Flatten(),\n",
    "    \n",
    "    # 2 warstwy gęste\n",
    "    Dense(units=128, activation='relu'),\n",
    "    Dropout(0.2),\n",
    "    \n",
    "    Dense(units=128, activation='relu'),\n",
    "    Dropout(0.2),\n",
    "\n",
    "    # warstwa wyjściowa\n",
    "    Dense(units=DIAGNOSIS_NUMBER, activation='softmax')\n",
    "])"
   ]
  },
  {
   "cell_type": "code",
   "execution_count": 5,
   "metadata": {
    "execution": {
     "iopub.execute_input": "2021-04-18T14:23:42.534651Z",
     "iopub.status.busy": "2021-04-18T14:23:42.533510Z",
     "iopub.status.idle": "2021-04-18T14:23:42.541610Z",
     "shell.execute_reply": "2021-04-18T14:23:42.542530Z"
    }
   },
   "outputs": [],
   "source": [
    "model.compile(optimizer='adam', loss='categorical_crossentropy', metrics=['accuracy'])"
   ]
  },
  {
   "cell_type": "markdown",
   "metadata": {},
   "source": [
    "Dodajemy funkcjonalność zbierania danych o wydajności modelu do Tensorboard."
   ]
  },
  {
   "cell_type": "code",
   "execution_count": 6,
   "metadata": {
    "execution": {
     "iopub.execute_input": "2021-04-18T14:23:42.548612Z",
     "iopub.status.busy": "2021-04-18T14:23:42.547482Z",
     "iopub.status.idle": "2021-04-18T14:23:42.735005Z",
     "shell.execute_reply": "2021-04-18T14:23:42.735988Z"
    }
   },
   "outputs": [],
   "source": [
    "log_dir = '../logs/fit/' + datetime.datetime.now().strftime('cnn')\n",
    "tensorboard_callback = TensorBoard(log_dir=log_dir, histogram_freq=1)"
   ]
  },
  {
   "cell_type": "markdown",
   "metadata": {},
   "source": [
    "Dodajemy funkcjonalność zapisywania modelu w trakcie jego trenowania. Zwóćmy uwagę, że zapisywany jest tylko jeden model i lepszy nadpisuje gorszy."
   ]
  },
  {
   "cell_type": "code",
   "execution_count": 7,
   "metadata": {
    "execution": {
     "iopub.execute_input": "2021-04-18T14:23:42.742015Z",
     "iopub.status.busy": "2021-04-18T14:23:42.740894Z",
     "iopub.status.idle": "2021-04-18T14:23:42.743097Z",
     "shell.execute_reply": "2021-04-18T14:23:42.743975Z"
    }
   },
   "outputs": [],
   "source": [
    "checkpoint_path = 'checkpoints/cnn.ckpt'\n",
    "checkpoint_dir = os.path.dirname(checkpoint_path)\n",
    "\n",
    "checkpoint_callback = ModelCheckpoint(\n",
    "    checkpoint_path,\n",
    "    monitor='val_loss',\n",
    "    verbose=1,\n",
    "    save_best_only=True,\n",
    "    save_weights_only=False,\n",
    "    save_freq='epoch',\n",
    "    mode='auto')"
   ]
  },
  {
   "cell_type": "markdown",
   "metadata": {},
   "source": [
    "Dodajemy funkcjonalność zatrzymania trenowania modelu, jeśli nie będzie poprawy w ciągu 10 epoch."
   ]
  },
  {
   "cell_type": "code",
   "execution_count": 8,
   "metadata": {
    "execution": {
     "iopub.execute_input": "2021-04-18T14:23:42.749745Z",
     "iopub.status.busy": "2021-04-18T14:23:42.749170Z",
     "iopub.status.idle": "2021-04-18T14:23:42.751960Z",
     "shell.execute_reply": "2021-04-18T14:23:42.752435Z"
    }
   },
   "outputs": [],
   "source": [
    "early_stop_callback = EarlyStopping(monitor=\"val_loss\", min_delta=0.01, patience=10, restore_best_weights=True)"
   ]
  },
  {
   "cell_type": "markdown",
   "metadata": {},
   "source": [
    "Trenujemy model."
   ]
  },
  {
   "cell_type": "code",
   "execution_count": 9,
   "metadata": {
    "execution": {
     "iopub.execute_input": "2021-04-18T14:23:42.756561Z",
     "iopub.status.busy": "2021-04-18T14:23:42.756000Z",
     "iopub.status.idle": "2021-04-19T00:49:07.049956Z",
     "shell.execute_reply": "2021-04-19T00:49:07.090413Z"
    }
   },
   "outputs": [
    {
     "name": "stdout",
     "output_type": "stream",
     "text": [
      "Epoch 1/200\n",
      "732/732 [==============================] - 1805s 2s/step - loss: 1.2915 - accuracy: 0.6203 - val_loss: 1.0008 - val_accuracy: 0.6496\n",
      "\n",
      "Epoch 00001: val_loss improved from inf to 1.00084, saving model to checkpoints/cnn.ckpt\n",
      "INFO:tensorflow:Assets written to: checkpoints/cnn.ckpt/assets\n",
      "Epoch 2/200\n",
      "732/732 [==============================] - 1785s 2s/step - loss: 1.0475 - accuracy: 0.6646 - val_loss: 1.1782 - val_accuracy: 0.6428\n",
      "\n",
      "Epoch 00002: val_loss did not improve from 1.00084\n",
      "Epoch 3/200\n",
      "732/732 [==============================] - 1784s 2s/step - loss: 1.0209 - accuracy: 0.6715 - val_loss: 0.9945 - val_accuracy: 0.6698\n",
      "\n",
      "Epoch 00003: val_loss improved from 1.00084 to 0.99453, saving model to checkpoints/cnn.ckpt\n",
      "INFO:tensorflow:Assets written to: checkpoints/cnn.ckpt/assets\n",
      "Epoch 4/200\n",
      "732/732 [==============================] - 1786s 2s/step - loss: 0.9838 - accuracy: 0.6853 - val_loss: 1.0454 - val_accuracy: 0.6578\n",
      "\n",
      "Epoch 00004: val_loss did not improve from 0.99453\n",
      "Epoch 5/200\n",
      "732/732 [==============================] - 1792s 2s/step - loss: 0.9817 - accuracy: 0.6856 - val_loss: 1.0731 - val_accuracy: 0.6580\n",
      "\n",
      "Epoch 00005: val_loss did not improve from 0.99453\n",
      "Epoch 6/200\n",
      "732/732 [==============================] - 1787s 2s/step - loss: 0.9496 - accuracy: 0.6895 - val_loss: 0.9239 - val_accuracy: 0.6845\n",
      "\n",
      "Epoch 00006: val_loss improved from 0.99453 to 0.92394, saving model to checkpoints/cnn.ckpt\n",
      "INFO:tensorflow:Assets written to: checkpoints/cnn.ckpt/assets\n",
      "Epoch 7/200\n",
      "732/732 [==============================] - 1788s 2s/step - loss: 0.9451 - accuracy: 0.6951 - val_loss: 0.8934 - val_accuracy: 0.7021\n",
      "\n",
      "Epoch 00007: val_loss improved from 0.92394 to 0.89339, saving model to checkpoints/cnn.ckpt\n",
      "INFO:tensorflow:Assets written to: checkpoints/cnn.ckpt/assets\n",
      "Epoch 8/200\n",
      "732/732 [==============================] - 1783s 2s/step - loss: 0.9222 - accuracy: 0.6999 - val_loss: 1.0406 - val_accuracy: 0.6636\n",
      "\n",
      "Epoch 00008: val_loss did not improve from 0.89339\n",
      "Epoch 9/200\n",
      "732/732 [==============================] - 1788s 2s/step - loss: 0.9097 - accuracy: 0.7028 - val_loss: 0.9720 - val_accuracy: 0.6763\n",
      "\n",
      "Epoch 00009: val_loss did not improve from 0.89339\n",
      "Epoch 10/200\n",
      "732/732 [==============================] - 1787s 2s/step - loss: 0.9130 - accuracy: 0.7024 - val_loss: 0.8839 - val_accuracy: 0.6809\n",
      "\n",
      "Epoch 00010: val_loss improved from 0.89339 to 0.88392, saving model to checkpoints/cnn.ckpt\n",
      "INFO:tensorflow:Assets written to: checkpoints/cnn.ckpt/assets\n",
      "Epoch 11/200\n",
      "732/732 [==============================] - 1785s 2s/step - loss: 0.9167 - accuracy: 0.7002 - val_loss: 0.8056 - val_accuracy: 0.7030\n",
      "\n",
      "Epoch 00011: val_loss improved from 0.88392 to 0.80560, saving model to checkpoints/cnn.ckpt\n",
      "INFO:tensorflow:Assets written to: checkpoints/cnn.ckpt/assets\n",
      "Epoch 12/200\n",
      "732/732 [==============================] - 1785s 2s/step - loss: 0.8987 - accuracy: 0.7046 - val_loss: 0.9704 - val_accuracy: 0.6919\n",
      "\n",
      "Epoch 00012: val_loss did not improve from 0.80560\n",
      "Epoch 13/200\n",
      "732/732 [==============================] - 1782s 2s/step - loss: 0.8911 - accuracy: 0.7086 - val_loss: 0.8415 - val_accuracy: 0.6914\n",
      "\n",
      "Epoch 00013: val_loss did not improve from 0.80560\n",
      "Epoch 14/200\n",
      "732/732 [==============================] - 1782s 2s/step - loss: 0.8859 - accuracy: 0.7098 - val_loss: 0.8312 - val_accuracy: 0.7069\n",
      "\n",
      "Epoch 00014: val_loss did not improve from 0.80560\n",
      "Epoch 15/200\n",
      "732/732 [==============================] - 1782s 2s/step - loss: 0.8782 - accuracy: 0.7091 - val_loss: 0.9065 - val_accuracy: 0.6890\n",
      "\n",
      "Epoch 00015: val_loss did not improve from 0.80560\n",
      "Epoch 16/200\n",
      "732/732 [==============================] - 1789s 2s/step - loss: 0.8816 - accuracy: 0.7104 - val_loss: 0.9119 - val_accuracy: 0.6867\n",
      "\n",
      "Epoch 00016: val_loss did not improve from 0.80560\n",
      "Epoch 17/200\n",
      "732/732 [==============================] - 1784s 2s/step - loss: 0.8745 - accuracy: 0.7108 - val_loss: 0.8416 - val_accuracy: 0.6996\n",
      "\n",
      "Epoch 00017: val_loss did not improve from 0.80560\n",
      "Epoch 18/200\n",
      "732/732 [==============================] - 1787s 2s/step - loss: 0.8749 - accuracy: 0.7085 - val_loss: 0.8630 - val_accuracy: 0.6958\n",
      "\n",
      "Epoch 00018: val_loss did not improve from 0.80560\n",
      "Epoch 19/200\n",
      "732/732 [==============================] - 1782s 2s/step - loss: 0.8545 - accuracy: 0.7174 - val_loss: 0.8193 - val_accuracy: 0.7097\n",
      "\n",
      "Epoch 00019: val_loss did not improve from 0.80560\n",
      "Epoch 20/200\n",
      "732/732 [==============================] - 1783s 2s/step - loss: 0.8661 - accuracy: 0.7084 - val_loss: 0.8121 - val_accuracy: 0.7119\n",
      "\n",
      "Epoch 00020: val_loss did not improve from 0.80560\n",
      "Epoch 21/200\n",
      "732/732 [==============================] - 1785s 2s/step - loss: 0.8648 - accuracy: 0.7134 - val_loss: 0.9042 - val_accuracy: 0.6960\n",
      "\n",
      "Epoch 00021: val_loss did not improve from 0.80560\n"
     ]
    },
    {
     "data": {
      "text/plain": [
       "<tensorflow.python.keras.callbacks.History at 0x7f0aaccce320>"
      ]
     },
     "execution_count": 1,
     "metadata": {},
     "output_type": "execute_result"
    }
   ],
   "source": [
    "model.fit(training_set, validation_data=validation_set, epochs=200, callbacks=[tensorboard_callback,\n",
    "                                                                               checkpoint_callback,\n",
    "                                                                               early_stop_callback])"
   ]
  },
  {
   "cell_type": "markdown",
   "metadata": {},
   "source": [
    "## Szacujemy dokładność modelu"
   ]
  },
  {
   "cell_type": "markdown",
   "metadata": {},
   "source": [
    "Ładujemy dane do testowania."
   ]
  },
  {
   "cell_type": "code",
   "execution_count": 10,
   "metadata": {
    "execution": {
     "iopub.execute_input": "2021-04-19T00:49:07.118248Z",
     "iopub.status.busy": "2021-04-19T00:49:07.117195Z",
     "iopub.status.idle": "2021-04-19T00:49:07.356866Z",
     "shell.execute_reply": "2021-04-19T00:49:07.355850Z"
    }
   },
   "outputs": [
    {
     "name": "stdout",
     "output_type": "stream",
     "text": [
      "Found 7312 images belonging to 10 classes.\n"
     ]
    }
   ],
   "source": [
    "datagen = ImageDataGenerator(rescale=1. / 255)\n",
    "testing_set = datagen.flow_from_directory('/isic-test-large',\n",
    "                                           target_size=(128, 128),\n",
    "                                           batch_size=32,\n",
    "                                           class_mode='categorical')"
   ]
  },
  {
   "cell_type": "markdown",
   "metadata": {},
   "source": [
    "Pobieramy diagnozy z danych testowych."
   ]
  },
  {
   "cell_type": "code",
   "execution_count": 11,
   "metadata": {
    "execution": {
     "iopub.execute_input": "2021-04-19T00:49:07.365427Z",
     "iopub.status.busy": "2021-04-19T00:49:07.364862Z",
     "iopub.status.idle": "2021-04-19T00:55:59.588615Z",
     "shell.execute_reply": "2021-04-19T00:55:59.587623Z"
    }
   },
   "outputs": [],
   "source": [
    "true_labels = np.concatenate([testing_set[i][1] for i in range(len(testing_set))], axis=0)"
   ]
  },
  {
   "cell_type": "markdown",
   "metadata": {},
   "source": [
    "Prognozujemy diagnozy dla każdego obrazu."
   ]
  },
  {
   "cell_type": "code",
   "execution_count": 12,
   "metadata": {
    "execution": {
     "iopub.execute_input": "2021-04-19T00:55:59.597806Z",
     "iopub.status.busy": "2021-04-19T00:55:59.596766Z",
     "iopub.status.idle": "2021-04-19T01:02:15.169931Z",
     "shell.execute_reply": "2021-04-19T01:02:15.168978Z"
    }
   },
   "outputs": [],
   "source": [
    "predicted_labels = model.predict(testing_set)"
   ]
  },
  {
   "cell_type": "markdown",
   "metadata": {},
   "source": [
    "Obliczamy punkty wykresu ROC (Receiver operating characteristic) i metrykę AUC (Area under the curve)."
   ]
  },
  {
   "cell_type": "code",
   "execution_count": 13,
   "metadata": {
    "execution": {
     "iopub.execute_input": "2021-04-19T01:02:15.184405Z",
     "iopub.status.busy": "2021-04-19T01:02:15.182867Z",
     "iopub.status.idle": "2021-04-19T01:02:15.218322Z",
     "shell.execute_reply": "2021-04-19T01:02:15.217299Z"
    }
   },
   "outputs": [],
   "source": [
    "fpr = dict()\n",
    "tpr = dict()\n",
    "auc_metric = dict()\n",
    "\n",
    "diagnosis_index_dict = {v: k for k, v in training_set.class_indices.items()}\n",
    "\n",
    "for i in range(DIAGNOSIS_NUMBER):\n",
    "    diagnosis = diagnosis_index_dict[i]\n",
    "    fpr[diagnosis], tpr[diagnosis], _ = roc_curve(true_labels[:, i], predicted_labels[:, i])\n",
    "    auc_metric[diagnosis] = auc(fpr[diagnosis], tpr[diagnosis])"
   ]
  },
  {
   "cell_type": "markdown",
   "metadata": {},
   "source": [
    "Rysujemy wykres ROC (Receiver operating characteristic)."
   ]
  },
  {
   "cell_type": "code",
   "execution_count": 14,
   "metadata": {
    "execution": {
     "iopub.execute_input": "2021-04-19T01:02:15.261604Z",
     "iopub.status.busy": "2021-04-19T01:02:15.259927Z",
     "iopub.status.idle": "2021-04-19T01:02:15.507634Z",
     "shell.execute_reply": "2021-04-19T01:02:15.508537Z"
    }
   },
   "outputs": [
    {
     "data": {
      "image/png": "[encoded data removed]",
      "text/plain": [
       "<Figure size 432x288 with 1 Axes>"
      ]
     },
     "metadata": {
      "needs_background": "light"
     },
     "output_type": "display_data"
    }
   ],
   "source": [
    "for diagnosis in training_set.class_indices:\n",
    "    plt.plot(fpr[diagnosis], tpr[diagnosis], label=diagnosis)\n",
    "    \n",
    "plt.plot([0, 1], [0, 1], 'k--')\n",
    "plt.xlabel('False Positive Rate')\n",
    "plt.ylabel('True Positive Rate')\n",
    "plt.title('Receiver operating characteristic')\n",
    "plt.legend(loc=\"lower right\")\n",
    "plt.show()"
   ]
  },
  {
   "cell_type": "markdown",
   "metadata": {},
   "source": [
    "Metryki AUC do każdej diagnozy."
   ]
  },
  {
   "cell_type": "code",
   "execution_count": 15,
   "metadata": {
    "execution": {
     "iopub.execute_input": "2021-04-19T01:02:15.518017Z",
     "iopub.status.busy": "2021-04-19T01:02:15.517281Z",
     "iopub.status.idle": "2021-04-19T01:02:15.521617Z",
     "shell.execute_reply": "2021-04-19T01:02:15.522644Z"
    }
   },
   "outputs": [
    {
     "data": {
      "text/plain": [
       "{'actinic keratosis': 0.8730350431396797,\n",
       " 'basal cell carcinoma': 0.8808727816267438,\n",
       " 'dermatofibroma': 0.7775698466086146,\n",
       " 'melanoma': 0.8252598595910818,\n",
       " 'nevus': 0.8909023376537106,\n",
       " 'pigmented benign keratosis': 0.8608021842793417,\n",
       " 'seborrheic keratosis': 0.7796469911865713,\n",
       " 'solar lentigo': 0.8492567456924001,\n",
       " 'squamous cell carcinoma': 0.8514315236028919,\n",
       " 'vascular lesion': 0.8057659642840748}"
      ]
     },
     "execution_count": 1,
     "metadata": {},
     "output_type": "execute_result"
    }
   ],
   "source": [
    "auc_metric"
   ]
  },
  {
   "cell_type": "code",
   "execution_count": null,
   "metadata": {},
   "outputs": [],
   "source": []
  }
 ],
 "metadata": {
  "kernelspec": {
   "display_name": "Python 3",
   "language": "python",
   "name": "python3"
  },
  "language_info": {
   "codemirror_mode": {
    "name": "ipython",
    "version": 3
   },
   "file_extension": ".py",
   "mimetype": "text/x-python",
   "name": "python",
   "nbconvert_exporter": "python",
   "pygments_lexer": "ipython3",
   "version": "3.6.9"
  }
 },
 "nbformat": 4,
 "nbformat_minor": 2
}
